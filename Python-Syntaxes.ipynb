{
  "nbformat": 4,
  "nbformat_minor": 0,
  "metadata": {
    "colab": {
      "name": "MTA September_Batch2.ipynb",
      "provenance": []
    },
    "kernelspec": {
      "name": "python3",
      "display_name": "Python 3"
    }
  },
  "cells": [
    {
      "cell_type": "code",
      "metadata": {
        "id": "xTWM7FkISR89",
        "colab": {
          "base_uri": "https://localhost:8080/"
        },
        "outputId": "e3b7a74a-7592-49e5-a859-6b7f2885c43c"
      },
      "source": [
        "2-33"
      ],
      "execution_count": 1,
      "outputs": [
        {
          "output_type": "execute_result",
          "data": {
            "text/plain": [
              "-31"
            ]
          },
          "metadata": {},
          "execution_count": 1
        }
      ]
    },
    {
      "cell_type": "code",
      "metadata": {
        "id": "g8ZCA71BTDW1",
        "collapsed": true,
        "colab": {
          "base_uri": "https://localhost:8080/"
        },
        "outputId": "8a1a0789-67d4-4f28-abdf-deeaeeb5f059"
      },
      "source": [
        "33*2"
      ],
      "execution_count": 2,
      "outputs": [
        {
          "output_type": "execute_result",
          "data": {
            "text/plain": [
              "66"
            ]
          },
          "metadata": {},
          "execution_count": 2
        }
      ]
    },
    {
      "cell_type": "code",
      "metadata": {
        "id": "3d3nOUjlUnTP"
      },
      "source": [
        "a=33 # 33 (value - integer type) # 4 bytes\n",
        "b=37.5\n",
        "c='hi' # 2 bytes\n",
        "\n",
        "# Note - Variables are not declared\n",
        "# Note - Variables are assigned (defined)"
      ],
      "execution_count": 3,
      "outputs": []
    },
    {
      "cell_type": "code",
      "metadata": {
        "id": "FDc1aAW3VPen",
        "colab": {
          "base_uri": "https://localhost:8080/"
        },
        "outputId": "05859e8f-085d-48d0-e553-db080d6dc21c"
      },
      "source": [
        "a"
      ],
      "execution_count": 4,
      "outputs": [
        {
          "output_type": "execute_result",
          "data": {
            "text/plain": [
              "33"
            ]
          },
          "metadata": {},
          "execution_count": 4
        }
      ]
    },
    {
      "cell_type": "code",
      "metadata": {
        "id": "QUj0lsC0VTf6",
        "colab": {
          "base_uri": "https://localhost:8080/"
        },
        "outputId": "da18c208-7935-4d40-ed6c-5fd7b37bf91f"
      },
      "source": [
        "b"
      ],
      "execution_count": 5,
      "outputs": [
        {
          "output_type": "execute_result",
          "data": {
            "text/plain": [
              "37.5"
            ]
          },
          "metadata": {},
          "execution_count": 5
        }
      ]
    },
    {
      "cell_type": "code",
      "metadata": {
        "id": "ePRdqzB5VYUQ",
        "colab": {
          "base_uri": "https://localhost:8080/",
          "height": 38
        },
        "outputId": "3ad835b9-0ea0-4958-c32b-a5260a7420a8"
      },
      "source": [
        "c"
      ],
      "execution_count": 6,
      "outputs": [
        {
          "output_type": "execute_result",
          "data": {
            "text/plain": [
              "'hi'"
            ],
            "application/vnd.google.colaboratory.intrinsic+json": {
              "type": "string"
            }
          },
          "metadata": {},
          "execution_count": 6
        }
      ]
    },
    {
      "cell_type": "code",
      "metadata": {
        "id": "-EdATPJ_V6_r"
      },
      "source": [
        "a=b=c=1 # Multiple Variable "
      ],
      "execution_count": 7,
      "outputs": []
    },
    {
      "cell_type": "code",
      "metadata": {
        "id": "bx5JIbAVWBk3",
        "colab": {
          "base_uri": "https://localhost:8080/"
        },
        "outputId": "f8f3eef1-09b7-4cd0-8276-cbe31a45b01a"
      },
      "source": [
        "a"
      ],
      "execution_count": 8,
      "outputs": [
        {
          "output_type": "execute_result",
          "data": {
            "text/plain": [
              "1"
            ]
          },
          "metadata": {},
          "execution_count": 8
        }
      ]
    },
    {
      "cell_type": "code",
      "metadata": {
        "id": "JzyeOUPvWDW5",
        "colab": {
          "base_uri": "https://localhost:8080/"
        },
        "outputId": "2a3d0b9e-1a6d-46bd-d2b3-992ec04529f5"
      },
      "source": [
        "b"
      ],
      "execution_count": 9,
      "outputs": [
        {
          "output_type": "execute_result",
          "data": {
            "text/plain": [
              "1"
            ]
          },
          "metadata": {},
          "execution_count": 9
        }
      ]
    },
    {
      "cell_type": "code",
      "metadata": {
        "id": "wFjT9coGWEhX",
        "colab": {
          "base_uri": "https://localhost:8080/"
        },
        "outputId": "0c2c93d0-4f8e-4b7e-879c-6ce5d015762f"
      },
      "source": [
        "c"
      ],
      "execution_count": 10,
      "outputs": [
        {
          "output_type": "execute_result",
          "data": {
            "text/plain": [
              "1"
            ]
          },
          "metadata": {},
          "execution_count": 10
        }
      ]
    },
    {
      "cell_type": "code",
      "metadata": {
        "id": "Uu4SvbKKWNSO"
      },
      "source": [
        "a,b,c=33,37.5,'hi'\n",
        "#Left #Right\n",
        "\n",
        "# Operate from Right to Left"
      ],
      "execution_count": 11,
      "outputs": []
    },
    {
      "cell_type": "code",
      "metadata": {
        "id": "ACNPcaM9WZbU",
        "colab": {
          "base_uri": "https://localhost:8080/"
        },
        "outputId": "a372e2e7-9d6d-4f9b-a064-32f71ff245ee"
      },
      "source": [
        "a"
      ],
      "execution_count": 12,
      "outputs": [
        {
          "output_type": "execute_result",
          "data": {
            "text/plain": [
              "33"
            ]
          },
          "metadata": {},
          "execution_count": 12
        }
      ]
    },
    {
      "cell_type": "code",
      "metadata": {
        "id": "WZfVmREjWbyW",
        "colab": {
          "base_uri": "https://localhost:8080/"
        },
        "outputId": "5371cd99-0b7d-4ac6-c28e-84d551af4277"
      },
      "source": [
        "b"
      ],
      "execution_count": 13,
      "outputs": [
        {
          "output_type": "execute_result",
          "data": {
            "text/plain": [
              "37.5"
            ]
          },
          "metadata": {},
          "execution_count": 13
        }
      ]
    },
    {
      "cell_type": "code",
      "metadata": {
        "id": "C7yKygovWd64",
        "colab": {
          "base_uri": "https://localhost:8080/",
          "height": 38
        },
        "outputId": "24d5cc22-8f04-4be9-8083-b68f79ce522b"
      },
      "source": [
        "c"
      ],
      "execution_count": 14,
      "outputs": [
        {
          "output_type": "execute_result",
          "data": {
            "text/plain": [
              "'hi'"
            ],
            "application/vnd.google.colaboratory.intrinsic+json": {
              "type": "string"
            }
          },
          "metadata": {},
          "execution_count": 14
        }
      ]
    },
    {
      "cell_type": "code",
      "metadata": {
        "id": "xH-IdKH0Wule"
      },
      "source": [
        "a=33"
      ],
      "execution_count": 15,
      "outputs": []
    },
    {
      "cell_type": "code",
      "metadata": {
        "id": "CKHU7U48Wz5h"
      },
      "source": [
        "del(a)"
      ],
      "execution_count": 16,
      "outputs": []
    },
    {
      "cell_type": "code",
      "metadata": {
        "id": "qBQXwdTnW3eM",
        "colab": {
          "base_uri": "https://localhost:8080/",
          "height": 202
        },
        "outputId": "d9c0f615-ed01-42cd-92f1-173d303deaef"
      },
      "source": [
        "a"
      ],
      "execution_count": 17,
      "outputs": [
        {
          "output_type": "error",
          "ename": "NameError",
          "evalue": "ignored",
          "traceback": [
            "\u001b[0;31m---------------------------------------------------------------------------\u001b[0m",
            "\u001b[0;31mNameError\u001b[0m                                 Traceback (most recent call last)",
            "\u001b[0;32m<ipython-input-17-3f786850e387>\u001b[0m in \u001b[0;36m<module>\u001b[0;34m\u001b[0m\n\u001b[0;32m----> 1\u001b[0;31m \u001b[0ma\u001b[0m\u001b[0;34m\u001b[0m\u001b[0;34m\u001b[0m\u001b[0m\n\u001b[0m",
            "\u001b[0;31mNameError\u001b[0m: name 'a' is not defined"
          ]
        }
      ]
    },
    {
      "cell_type": "code",
      "metadata": {
        "id": "Mz-rBtWyXCWs"
      },
      "source": [
        "a=33\n",
        "b=37.5"
      ],
      "execution_count": 18,
      "outputs": []
    },
    {
      "cell_type": "code",
      "metadata": {
        "id": "pieKPpWuXFP6"
      },
      "source": [
        "del(a,b)"
      ],
      "execution_count": 19,
      "outputs": []
    },
    {
      "cell_type": "code",
      "metadata": {
        "id": "P89vXVZYXILl",
        "colab": {
          "base_uri": "https://localhost:8080/",
          "height": 202
        },
        "outputId": "439e9d32-10bd-44eb-b0c5-2664bee1f39a"
      },
      "source": [
        "a"
      ],
      "execution_count": 20,
      "outputs": [
        {
          "output_type": "error",
          "ename": "NameError",
          "evalue": "ignored",
          "traceback": [
            "\u001b[0;31m---------------------------------------------------------------------------\u001b[0m",
            "\u001b[0;31mNameError\u001b[0m                                 Traceback (most recent call last)",
            "\u001b[0;32m<ipython-input-20-3f786850e387>\u001b[0m in \u001b[0;36m<module>\u001b[0;34m\u001b[0m\n\u001b[0;32m----> 1\u001b[0;31m \u001b[0ma\u001b[0m\u001b[0;34m\u001b[0m\u001b[0;34m\u001b[0m\u001b[0m\n\u001b[0m",
            "\u001b[0;31mNameError\u001b[0m: name 'a' is not defined"
          ]
        }
      ]
    },
    {
      "cell_type": "code",
      "metadata": {
        "id": "1ZKbF_veXJ26",
        "colab": {
          "base_uri": "https://localhost:8080/",
          "height": 202
        },
        "outputId": "b2fd6402-f8d6-4291-9171-c3337deef9dc"
      },
      "source": [
        "b"
      ],
      "execution_count": 21,
      "outputs": [
        {
          "output_type": "error",
          "ename": "NameError",
          "evalue": "ignored",
          "traceback": [
            "\u001b[0;31m---------------------------------------------------------------------------\u001b[0m",
            "\u001b[0;31mNameError\u001b[0m                                 Traceback (most recent call last)",
            "\u001b[0;32m<ipython-input-21-89e6c98d9288>\u001b[0m in \u001b[0;36m<module>\u001b[0;34m\u001b[0m\n\u001b[0;32m----> 1\u001b[0;31m \u001b[0mb\u001b[0m\u001b[0;34m\u001b[0m\u001b[0;34m\u001b[0m\u001b[0m\n\u001b[0m",
            "\u001b[0;31mNameError\u001b[0m: name 'b' is not defined"
          ]
        }
      ]
    },
    {
      "cell_type": "code",
      "metadata": {
        "id": "ernZEY2WXWfn"
      },
      "source": [
        "a=33\n",
        "b=37.5"
      ],
      "execution_count": 22,
      "outputs": []
    },
    {
      "cell_type": "code",
      "metadata": {
        "id": "s2_CF3-EXbS5"
      },
      "source": [
        "a\n",
        "b"
      ],
      "execution_count": null,
      "outputs": []
    },
    {
      "cell_type": "code",
      "metadata": {
        "id": "xnS1Ooj4XmKq",
        "colab": {
          "base_uri": "https://localhost:8080/"
        },
        "outputId": "819fde47-5000-46e1-f92b-14889be65e31"
      },
      "source": [
        "print (a,b)"
      ],
      "execution_count": 23,
      "outputs": [
        {
          "output_type": "stream",
          "name": "stdout",
          "text": [
            "33 37.5\n"
          ]
        }
      ]
    },
    {
      "cell_type": "code",
      "metadata": {
        "id": "nt24gXjbX95-",
        "colab": {
          "base_uri": "https://localhost:8080/"
        },
        "outputId": "ee58bd0a-45e2-43ab-ef0b-4c1090720232"
      },
      "source": [
        "print(33,37.5,'hello') # int, float, str"
      ],
      "execution_count": 24,
      "outputs": [
        {
          "output_type": "stream",
          "name": "stdout",
          "text": [
            "33 37.5 hello\n"
          ]
        }
      ]
    },
    {
      "cell_type": "code",
      "metadata": {
        "id": "jToVwOMdYLsP",
        "colab": {
          "base_uri": "https://localhost:8080/"
        },
        "outputId": "17595c37-b3be-408e-b794-292d3f37adc9"
      },
      "source": [
        "print('hello') # by default end='\\n'\n",
        "print('hi')"
      ],
      "execution_count": 25,
      "outputs": [
        {
          "output_type": "stream",
          "name": "stdout",
          "text": [
            "hello\n",
            "hi\n"
          ]
        }
      ]
    },
    {
      "cell_type": "code",
      "metadata": {
        "id": "NUn5OFjnYVUD"
      },
      "source": [
        "print('hello',end='?')\n",
        "print('hi',end='#')"
      ],
      "execution_count": null,
      "outputs": []
    },
    {
      "cell_type": "code",
      "metadata": {
        "id": "GpXhz8GrZIDg",
        "colab": {
          "base_uri": "https://localhost:8080/"
        },
        "outputId": "79f3649f-cd26-480a-8d0f-7188077a806f"
      },
      "source": [
        "a=33 # Decimal Number (int)\n",
        "print (a)"
      ],
      "execution_count": 26,
      "outputs": [
        {
          "output_type": "stream",
          "name": "stdout",
          "text": [
            "33\n"
          ]
        }
      ]
    },
    {
      "cell_type": "code",
      "metadata": {
        "id": "qRSYrcxYZSCh",
        "colab": {
          "base_uri": "https://localhost:8080/"
        },
        "outputId": "3914ee11-f767-4d28-da0b-e1e8dc6b02c3"
      },
      "source": [
        "a=0x21 # Hexa Decimal Number (int)\n",
        "print(a)"
      ],
      "execution_count": 27,
      "outputs": [
        {
          "output_type": "stream",
          "name": "stdout",
          "text": [
            "33\n"
          ]
        }
      ]
    },
    {
      "cell_type": "code",
      "metadata": {
        "id": "uCa8bFWMZfRy"
      },
      "source": [
        "a=0x21 # 16 Series\n",
        "\n",
        "# 21 - Ones (1) Tens (2)\n",
        "#16^0*(Value at Ones)+16^1*(Value at Tens)\n",
        "#1*1+16*(2)\n",
        "#1+32\n",
        "#33\n",
        "print (a)"
      ],
      "execution_count": null,
      "outputs": []
    },
    {
      "cell_type": "code",
      "metadata": {
        "id": "tPRgFktRaDlK",
        "colab": {
          "base_uri": "https://localhost:8080/"
        },
        "outputId": "5095285c-2c77-4f3b-8926-86d7aacbdfdb"
      },
      "source": [
        "a=0x221\n",
        "\n",
        "# 16^0*1+16^1*2+16^2*2\n",
        "# 1*1+16*2+256*2\n",
        "# 1+32+512\n",
        "# 545\n",
        "print (a)"
      ],
      "execution_count": 28,
      "outputs": [
        {
          "output_type": "stream",
          "name": "stdout",
          "text": [
            "545\n"
          ]
        }
      ]
    },
    {
      "cell_type": "code",
      "metadata": {
        "id": "NZYV9-FLacc-",
        "colab": {
          "base_uri": "https://localhost:8080/"
        },
        "outputId": "29829691-e7ea-40eb-9974-912983b8678b"
      },
      "source": [
        "a=0o21 # Octal\n",
        "print (a)"
      ],
      "execution_count": 29,
      "outputs": [
        {
          "output_type": "stream",
          "name": "stdout",
          "text": [
            "17\n"
          ]
        }
      ]
    },
    {
      "cell_type": "code",
      "metadata": {
        "id": "GgNKxbFOalFr",
        "colab": {
          "base_uri": "https://localhost:8080/"
        },
        "outputId": "f37e58a7-c8de-42f3-c6f6-2a3665d98e9e"
      },
      "source": [
        "a=0o21\n",
        "\n",
        "#8^0*1+8^1*2\n",
        "#1*1+8*2\n",
        "#1+16\n",
        "#17\n",
        "print (a)"
      ],
      "execution_count": 30,
      "outputs": [
        {
          "output_type": "stream",
          "name": "stdout",
          "text": [
            "17\n"
          ]
        }
      ]
    },
    {
      "cell_type": "code",
      "metadata": {
        "id": "YfUVvak5a2tY",
        "colab": {
          "base_uri": "https://localhost:8080/"
        },
        "outputId": "3238da2e-1f35-42b3-e879-efb74b4214a7"
      },
      "source": [
        "a=0b1101\n",
        "print (a)"
      ],
      "execution_count": 31,
      "outputs": [
        {
          "output_type": "stream",
          "name": "stdout",
          "text": [
            "13\n"
          ]
        }
      ]
    },
    {
      "cell_type": "code",
      "metadata": {
        "id": "WUhPDxJ8a7km"
      },
      "source": [
        "a=0b1101\n",
        "\n",
        "#2^0*1+2^1*0+2^2*1+2^3*1\n",
        "#1*1+2*0+4*1+8*1\n",
        "#1+0+4+8\n",
        "#13\n",
        "print (a)"
      ],
      "execution_count": null,
      "outputs": []
    },
    {
      "cell_type": "code",
      "metadata": {
        "id": "puJgCszxbpmZ",
        "colab": {
          "base_uri": "https://localhost:8080/"
        },
        "outputId": "66d7a179-c3e4-4a53-f8fe-7d9f94daf274"
      },
      "source": [
        "type(0b110)"
      ],
      "execution_count": 32,
      "outputs": [
        {
          "output_type": "execute_result",
          "data": {
            "text/plain": [
              "int"
            ]
          },
          "metadata": {},
          "execution_count": 32
        }
      ]
    },
    {
      "cell_type": "code",
      "metadata": {
        "id": "U_keklH9bu7G",
        "colab": {
          "base_uri": "https://localhost:8080/"
        },
        "outputId": "61fff813-b23a-4093-b962-4d27e68b0953"
      },
      "source": [
        "type(0x21) # value as input"
      ],
      "execution_count": 33,
      "outputs": [
        {
          "output_type": "execute_result",
          "data": {
            "text/plain": [
              "int"
            ]
          },
          "metadata": {},
          "execution_count": 33
        }
      ]
    },
    {
      "cell_type": "code",
      "metadata": {
        "id": "vErVlNTQbyAA",
        "colab": {
          "base_uri": "https://localhost:8080/"
        },
        "outputId": "6b983c12-41a1-4a32-c2c4-6f43bd61bd9f"
      },
      "source": [
        "a=33\n",
        "type(a) # variable as an input"
      ],
      "execution_count": 34,
      "outputs": [
        {
          "output_type": "execute_result",
          "data": {
            "text/plain": [
              "int"
            ]
          },
          "metadata": {},
          "execution_count": 34
        }
      ]
    },
    {
      "cell_type": "code",
      "metadata": {
        "id": "5aQm0CZDcD0H",
        "colab": {
          "base_uri": "https://localhost:8080/"
        },
        "outputId": "0dbb7bf9-382c-4141-e91b-f3b7d31f7552"
      },
      "source": [
        "a=37.5\n",
        "type(a)"
      ],
      "execution_count": 35,
      "outputs": [
        {
          "output_type": "execute_result",
          "data": {
            "text/plain": [
              "float"
            ]
          },
          "metadata": {},
          "execution_count": 35
        }
      ]
    },
    {
      "cell_type": "code",
      "metadata": {
        "id": "htuYSPcocJIu",
        "colab": {
          "base_uri": "https://localhost:8080/"
        },
        "outputId": "4f58288b-cf33-4f86-db09-215f40653032"
      },
      "source": [
        "a='hi'\n",
        "type(a)"
      ],
      "execution_count": 36,
      "outputs": [
        {
          "output_type": "execute_result",
          "data": {
            "text/plain": [
              "str"
            ]
          },
          "metadata": {},
          "execution_count": 36
        }
      ]
    },
    {
      "cell_type": "code",
      "metadata": {
        "id": "Lht7Co3ncYUo",
        "colab": {
          "base_uri": "https://localhost:8080/"
        },
        "outputId": "fe1a9ea9-ff07-4d93-9544-dadc7237e25b"
      },
      "source": [
        "a=2+3j\n",
        "print(a)"
      ],
      "execution_count": 37,
      "outputs": [
        {
          "output_type": "stream",
          "name": "stdout",
          "text": [
            "(2+3j)\n"
          ]
        }
      ]
    },
    {
      "cell_type": "code",
      "metadata": {
        "id": "qcNumm-ockX2",
        "colab": {
          "base_uri": "https://localhost:8080/"
        },
        "outputId": "9ae7249d-f456-4282-aa41-74f986ad5d29"
      },
      "source": [
        "type(a)"
      ],
      "execution_count": 38,
      "outputs": [
        {
          "output_type": "execute_result",
          "data": {
            "text/plain": [
              "complex"
            ]
          },
          "metadata": {},
          "execution_count": 38
        }
      ]
    },
    {
      "cell_type": "code",
      "metadata": {
        "id": "pnfLs2fBcw_I"
      },
      "source": [
        "a=37.5\n",
        "type(a) # type(a) is called directly"
      ],
      "execution_count": null,
      "outputs": []
    },
    {
      "cell_type": "code",
      "metadata": {
        "id": "lNSA4rS9c1Mn",
        "colab": {
          "base_uri": "https://localhost:8080/"
        },
        "outputId": "fde31263-4013-4163-adcb-42d5e36f8cfb"
      },
      "source": [
        "a=4E4 # 4*10^4\n",
        "print (a,type(a)) # type(a) is called through print"
      ],
      "execution_count": 39,
      "outputs": [
        {
          "output_type": "stream",
          "name": "stdout",
          "text": [
            "40000.0 <class 'float'>\n"
          ]
        }
      ]
    },
    {
      "cell_type": "code",
      "metadata": {
        "id": "5bJRiKOodMD5",
        "colab": {
          "base_uri": "https://localhost:8080/"
        },
        "outputId": "8dfbc6cd-54ef-4948-81c3-63ceb36e09c3"
      },
      "source": [
        "a=4E-7 # 4*10^-7\n",
        "print(a,type(a))"
      ],
      "execution_count": 40,
      "outputs": [
        {
          "output_type": "stream",
          "name": "stdout",
          "text": [
            "4e-07 <class 'float'>\n"
          ]
        }
      ]
    },
    {
      "cell_type": "code",
      "metadata": {
        "id": "3FoX2bmRdZkn"
      },
      "source": [
        "a=1.8E308 # Largest Floating Point\n",
        "print (a)"
      ],
      "execution_count": null,
      "outputs": []
    },
    {
      "cell_type": "code",
      "metadata": {
        "id": "lMzlSqtfdm-Q"
      },
      "source": [
        "a=5E-324 # Smallest Floating Point Number\n",
        "print (a)"
      ],
      "execution_count": null,
      "outputs": []
    },
    {
      "cell_type": "code",
      "metadata": {
        "id": "3n4eb2SteD6e",
        "colab": {
          "base_uri": "https://localhost:8080/"
        },
        "outputId": "42d061e3-904b-4815-e962-fe8de7da0bbe"
      },
      "source": [
        "a='hi'\n",
        "print (a, type(a))"
      ],
      "execution_count": 41,
      "outputs": [
        {
          "output_type": "stream",
          "name": "stdout",
          "text": [
            "hi <class 'str'>\n"
          ]
        }
      ]
    },
    {
      "cell_type": "code",
      "metadata": {
        "id": "EH4OxHT7eIb9",
        "colab": {
          "base_uri": "https://localhost:8080/",
          "height": 219
        },
        "outputId": "4e2efe30-8478-4b56-b9d9-2ea79bb27017"
      },
      "source": [
        "a='hi'+3 # appending two values\n",
        "print (a)"
      ],
      "execution_count": 42,
      "outputs": [
        {
          "output_type": "error",
          "ename": "TypeError",
          "evalue": "ignored",
          "traceback": [
            "\u001b[0;31m---------------------------------------------------------------------------\u001b[0m",
            "\u001b[0;31mTypeError\u001b[0m                                 Traceback (most recent call last)",
            "\u001b[0;32m<ipython-input-42-10c04bd2cca4>\u001b[0m in \u001b[0;36m<module>\u001b[0;34m\u001b[0m\n\u001b[0;32m----> 1\u001b[0;31m \u001b[0ma\u001b[0m\u001b[0;34m=\u001b[0m\u001b[0;34m'hi'\u001b[0m\u001b[0;34m+\u001b[0m\u001b[0;36m3\u001b[0m \u001b[0;31m# appending two values\u001b[0m\u001b[0;34m\u001b[0m\u001b[0;34m\u001b[0m\u001b[0m\n\u001b[0m\u001b[1;32m      2\u001b[0m \u001b[0mprint\u001b[0m \u001b[0;34m(\u001b[0m\u001b[0ma\u001b[0m\u001b[0;34m)\u001b[0m\u001b[0;34m\u001b[0m\u001b[0;34m\u001b[0m\u001b[0m\n",
            "\u001b[0;31mTypeError\u001b[0m: can only concatenate str (not \"int\") to str"
          ]
        }
      ]
    },
    {
      "cell_type": "code",
      "metadata": {
        "id": "p3WTCOHKeWWz",
        "colab": {
          "base_uri": "https://localhost:8080/"
        },
        "outputId": "f3252cac-0981-4618-a373-3fbddfee3e4d"
      },
      "source": [
        "# Typecasting - a process of converting\n",
        "# one datatype to other datatype\n",
        "# converting int to str\n",
        "a='hi'+str(3) # 3 is typecasted to '3'\n",
        "print(a)"
      ],
      "execution_count": 43,
      "outputs": [
        {
          "output_type": "stream",
          "name": "stdout",
          "text": [
            "hi3\n"
          ]
        }
      ]
    },
    {
      "cell_type": "code",
      "metadata": {
        "id": "jVfS6uoLe8IQ",
        "colab": {
          "base_uri": "https://localhost:8080/"
        },
        "outputId": "cadf380f-52a5-44f1-faec-47047382e533"
      },
      "source": [
        "a='23'\n",
        "print(type(a))"
      ],
      "execution_count": 44,
      "outputs": [
        {
          "output_type": "stream",
          "name": "stdout",
          "text": [
            "<class 'str'>\n"
          ]
        }
      ]
    },
    {
      "cell_type": "code",
      "metadata": {
        "id": "n4ZXksGmfCW7"
      },
      "source": [
        "a='hi'+'hello'\n",
        "print(a)"
      ],
      "execution_count": null,
      "outputs": []
    },
    {
      "cell_type": "code",
      "metadata": {
        "id": "AkSacBuciNWz",
        "colab": {
          "base_uri": "https://localhost:8080/"
        },
        "outputId": "e1999c48-09fd-4395-8a2b-82ccfbcdfd81"
      },
      "source": [
        "# Escape Sequences\n",
        "a='mad\\'blocks'\n",
        "print (a)\n",
        "# mad'blocks"
      ],
      "execution_count": 47,
      "outputs": [
        {
          "output_type": "stream",
          "name": "stdout",
          "text": [
            "mad'blocks\n"
          ]
        }
      ]
    },
    {
      "cell_type": "code",
      "metadata": {
        "id": "1BC45irZjgJl",
        "colab": {
          "base_uri": "https://localhost:8080/"
        },
        "outputId": "9fae2dd0-e437-46f0-c93c-58fb14ba3d82"
      },
      "source": [
        "a=\"mad\\\"blocks\"\n",
        "print (a)\n",
        "\n",
        "# mad\"blocks"
      ],
      "execution_count": 48,
      "outputs": [
        {
          "output_type": "stream",
          "name": "stdout",
          "text": [
            "mad\"blocks\n"
          ]
        }
      ]
    },
    {
      "cell_type": "code",
      "metadata": {
        "id": "aCltEtTGjrW7",
        "colab": {
          "base_uri": "https://localhost:8080/"
        },
        "outputId": "1bd5d0f4-4128-41a4-8dfe-8192438c97d3"
      },
      "source": [
        "a='mad\\\\blocks'\n",
        "print(a)\n",
        "\n",
        "# mad\\blocks"
      ],
      "execution_count": 49,
      "outputs": [
        {
          "output_type": "stream",
          "name": "stdout",
          "text": [
            "mad\\blocks\n"
          ]
        }
      ]
    },
    {
      "cell_type": "code",
      "metadata": {
        "id": "npONAuY1kAiv",
        "colab": {
          "base_uri": "https://localhost:8080/"
        },
        "outputId": "db084c00-7cde-40b5-eac3-56715dac185d"
      },
      "source": [
        "a='mad \\\n",
        "blocks \\\n",
        "madhu'\n",
        "print (a)"
      ],
      "execution_count": 50,
      "outputs": [
        {
          "output_type": "stream",
          "name": "stdout",
          "text": [
            "mad blocks madhu\n"
          ]
        }
      ]
    },
    {
      "cell_type": "code",
      "metadata": {
        "id": "R8BlKYd3kTUl"
      },
      "source": [
        "a='mad\\tblocks'\n",
        "print (a)"
      ],
      "execution_count": null,
      "outputs": []
    },
    {
      "cell_type": "code",
      "metadata": {
        "id": "pMWzL8SDkaKH"
      },
      "source": [
        "a='mad\\nblocks'\n",
        "print (a)"
      ],
      "execution_count": null,
      "outputs": []
    },
    {
      "cell_type": "code",
      "metadata": {
        "id": "kC9ouF6OkuMm",
        "colab": {
          "base_uri": "https://localhost:8080/"
        },
        "outputId": "06fbea74-376d-4c4d-aac3-00bd209a099a"
      },
      "source": [
        "s='madblocks'\n",
        "print (s)\n",
        "s='madhu'\n",
        "print (s) # you can update the value of a string"
      ],
      "execution_count": 51,
      "outputs": [
        {
          "output_type": "stream",
          "name": "stdout",
          "text": [
            "madblocks\n",
            "madhu\n"
          ]
        }
      ]
    },
    {
      "cell_type": "code",
      "metadata": {
        "id": "sjjfYd1TlE0D",
        "colab": {
          "base_uri": "https://localhost:8080/",
          "height": 237
        },
        "outputId": "dd915265-4df5-4cf8-afe3-1b345041f905"
      },
      "source": [
        "s='madblocks'\n",
        "s[0]='y' # index value of a string s\n",
        "print (s)"
      ],
      "execution_count": 52,
      "outputs": [
        {
          "output_type": "error",
          "ename": "TypeError",
          "evalue": "ignored",
          "traceback": [
            "\u001b[0;31m---------------------------------------------------------------------------\u001b[0m",
            "\u001b[0;31mTypeError\u001b[0m                                 Traceback (most recent call last)",
            "\u001b[0;32m<ipython-input-52-d737665cf8cb>\u001b[0m in \u001b[0;36m<module>\u001b[0;34m\u001b[0m\n\u001b[1;32m      1\u001b[0m \u001b[0ms\u001b[0m\u001b[0;34m=\u001b[0m\u001b[0;34m'madblocks'\u001b[0m\u001b[0;34m\u001b[0m\u001b[0;34m\u001b[0m\u001b[0m\n\u001b[0;32m----> 2\u001b[0;31m \u001b[0ms\u001b[0m\u001b[0;34m[\u001b[0m\u001b[0;36m0\u001b[0m\u001b[0;34m]\u001b[0m\u001b[0;34m=\u001b[0m\u001b[0;34m'y'\u001b[0m \u001b[0;31m# index value of a string s\u001b[0m\u001b[0;34m\u001b[0m\u001b[0;34m\u001b[0m\u001b[0m\n\u001b[0m\u001b[1;32m      3\u001b[0m \u001b[0mprint\u001b[0m \u001b[0;34m(\u001b[0m\u001b[0ms\u001b[0m\u001b[0;34m)\u001b[0m\u001b[0;34m\u001b[0m\u001b[0;34m\u001b[0m\u001b[0m\n",
            "\u001b[0;31mTypeError\u001b[0m: 'str' object does not support item assignment"
          ]
        }
      ]
    },
    {
      "cell_type": "code",
      "metadata": {
        "id": "vE9gXahpluYB",
        "colab": {
          "base_uri": "https://localhost:8080/"
        },
        "outputId": "d045a6cc-09c9-411d-a936-d5823f38f965"
      },
      "source": [
        "# String Slicing\n",
        "# Accessing the substrings\n",
        "# Removing the characters or accessing the characters\n",
        "\n",
        "s='madblocks' # 0,1,2,3......len(s)\n",
        "print(len(s))"
      ],
      "execution_count": 53,
      "outputs": [
        {
          "output_type": "stream",
          "name": "stdout",
          "text": [
            "9\n"
          ]
        }
      ]
    },
    {
      "cell_type": "code",
      "metadata": {
        "id": "u-lU0pj_mZTx",
        "colab": {
          "base_uri": "https://localhost:8080/"
        },
        "outputId": "f42ea7b8-b0a9-42e3-f37c-94de9fdd87c9"
      },
      "source": [
        "print(s[3]) "
      ],
      "execution_count": 54,
      "outputs": [
        {
          "output_type": "stream",
          "name": "stdout",
          "text": [
            "b\n"
          ]
        }
      ]
    },
    {
      "cell_type": "code",
      "metadata": {
        "id": "os4o2eJYmJSx",
        "colab": {
          "base_uri": "https://localhost:8080/"
        },
        "outputId": "12527b59-5e8b-4409-bcb7-28ff64507b18"
      },
      "source": [
        "print (s[0])"
      ],
      "execution_count": 55,
      "outputs": [
        {
          "output_type": "stream",
          "name": "stdout",
          "text": [
            "m\n"
          ]
        }
      ]
    },
    {
      "cell_type": "code",
      "metadata": {
        "id": "nQdDb6ejmPAf",
        "colab": {
          "base_uri": "https://localhost:8080/"
        },
        "outputId": "69fc78f1-777f-4621-ecf1-266c68f1d0fc"
      },
      "source": [
        "print (s[2])"
      ],
      "execution_count": 56,
      "outputs": [
        {
          "output_type": "stream",
          "name": "stdout",
          "text": [
            "d\n"
          ]
        }
      ]
    },
    {
      "cell_type": "code",
      "metadata": {
        "id": "Vq3dtX7XmuAx",
        "colab": {
          "base_uri": "https://localhost:8080/"
        },
        "outputId": "64161e6b-5ceb-4e6f-a34d-966610af7d94"
      },
      "source": [
        "s='madblocks '\n",
        "print(s[-1]) "
      ],
      "execution_count": 57,
      "outputs": [
        {
          "output_type": "stream",
          "name": "stdout",
          "text": [
            " \n"
          ]
        }
      ]
    },
    {
      "cell_type": "code",
      "metadata": {
        "id": "E7hp_u7gm_hk",
        "colab": {
          "base_uri": "https://localhost:8080/"
        },
        "outputId": "056cd9c0-47fd-4eda-e145-80fc8f6a14fd"
      },
      "source": [
        "s='madblocks'\n",
        "print(s[-5]) "
      ],
      "execution_count": 58,
      "outputs": [
        {
          "output_type": "stream",
          "name": "stdout",
          "text": [
            "l\n"
          ]
        }
      ]
    },
    {
      "cell_type": "code",
      "metadata": {
        "id": "sZJiVoUOnPwH",
        "colab": {
          "base_uri": "https://localhost:8080/"
        },
        "outputId": "7d6c079a-c345-42bd-bda1-d225b028926f"
      },
      "source": [
        "s='madblocks'\n",
        "print(s[1:5]) # start:stop adbl only upto stop-1"
      ],
      "execution_count": 59,
      "outputs": [
        {
          "output_type": "stream",
          "name": "stdout",
          "text": [
            "adbl\n"
          ]
        }
      ]
    },
    {
      "cell_type": "code",
      "metadata": {
        "id": "Bga9sCUYnl8Z",
        "colab": {
          "base_uri": "https://localhost:8080/"
        },
        "outputId": "633a18cc-d3ed-4ba1-9ab6-1b33bda31b9c"
      },
      "source": [
        "s='madblocks'\n",
        "print(s[2:4]) # db 2,3"
      ],
      "execution_count": 60,
      "outputs": [
        {
          "output_type": "stream",
          "name": "stdout",
          "text": [
            "db\n"
          ]
        }
      ]
    },
    {
      "cell_type": "code",
      "metadata": {
        "id": "qjK_uWc7n7HD",
        "colab": {
          "base_uri": "https://localhost:8080/"
        },
        "outputId": "e9e7633d-8310-48a0-df8e-c7128d5be42d"
      },
      "source": [
        "s='madblocks'\n",
        "print(s[:3]) # start value - 0 s[0:3] mad"
      ],
      "execution_count": 61,
      "outputs": [
        {
          "output_type": "stream",
          "name": "stdout",
          "text": [
            "mad\n"
          ]
        }
      ]
    },
    {
      "cell_type": "code",
      "metadata": {
        "id": "9BtuZdWyoPIb",
        "colab": {
          "base_uri": "https://localhost:8080/"
        },
        "outputId": "5ef12b7d-253e-49af-bf30-0809dce7bb2f"
      },
      "source": [
        "s='madblocks'\n",
        "print(s[3:]) # start value - 3, stop value - len(s)\n",
        "\n",
        "# No Start Value - 0\n",
        "# No Stop Value - len(str)"
      ],
      "execution_count": 62,
      "outputs": [
        {
          "output_type": "stream",
          "name": "stdout",
          "text": [
            "blocks\n"
          ]
        }
      ]
    },
    {
      "cell_type": "code",
      "metadata": {
        "id": "SASL0G7-oq8H",
        "colab": {
          "base_uri": "https://localhost:8080/"
        },
        "outputId": "d83fd774-c2bb-41c8-879f-983c0268666a"
      },
      "source": [
        "s='madblocks'\n",
        "print(s[0:]) # start value - 0 stop value - len(s)\n"
      ],
      "execution_count": 63,
      "outputs": [
        {
          "output_type": "stream",
          "name": "stdout",
          "text": [
            "madblocks\n"
          ]
        }
      ]
    },
    {
      "cell_type": "code",
      "metadata": {
        "id": "HLGwAxs-o_uW"
      },
      "source": [
        "s='madblocks'\n",
        "print(s[:3]) # No Start Value, Stop Value 3"
      ],
      "execution_count": null,
      "outputs": []
    },
    {
      "cell_type": "code",
      "metadata": {
        "id": "XBJ1-23qpNNq",
        "colab": {
          "base_uri": "https://localhost:8080/"
        },
        "outputId": "9e6154af-f6b0-4eb3-a4f8-b3929097bb0d"
      },
      "source": [
        "s='madblocks'\n",
        "print(s[:-3]) # Start Value - 0, Stop Value is -3"
      ],
      "execution_count": 64,
      "outputs": [
        {
          "output_type": "stream",
          "name": "stdout",
          "text": [
            "madblo\n"
          ]
        }
      ]
    },
    {
      "cell_type": "code",
      "metadata": {
        "id": "FfifnLCppl9x"
      },
      "source": [
        "s='madblocks'\n",
        "print(s[:-1]) # Start Value - 0, Stop Value is -1"
      ],
      "execution_count": null,
      "outputs": []
    },
    {
      "cell_type": "code",
      "metadata": {
        "id": "LpAkfGRYpzX4",
        "colab": {
          "base_uri": "https://localhost:8080/"
        },
        "outputId": "8ceb9ec5-f7a7-4a36-de2a-050373109fa5"
      },
      "source": [
        "s='madblocks'\n",
        "print(s[0:5:2]) # Start Index, Stop Index, Step Index\n",
        "# 0 2 4\n",
        "#mdl"
      ],
      "execution_count": 65,
      "outputs": [
        {
          "output_type": "stream",
          "name": "stdout",
          "text": [
            "mdl\n"
          ]
        }
      ]
    },
    {
      "cell_type": "code",
      "metadata": {
        "id": "zB9b3B-Gqbu8"
      },
      "source": [
        "s='madblocks'\n",
        "print(s[6:18:3]) # Start - 6, Stop - 18, Step - 3\n",
        "# 6,9,12,15\n",
        "#c co"
      ],
      "execution_count": null,
      "outputs": []
    },
    {
      "cell_type": "code",
      "metadata": {
        "id": "C8oFlJjGrXbB",
        "colab": {
          "base_uri": "https://localhost:8080/"
        },
        "outputId": "6df7e5eb-e115-4566-931d-eb90ec4bdbc6"
      },
      "source": [
        "s='madblocks'\n",
        "print(s[1:5:2]) # start - 3 s[3], stop - 15-s[15], step - 3"
      ],
      "execution_count": 66,
      "outputs": [
        {
          "output_type": "stream",
          "name": "stdout",
          "text": [
            "ab\n"
          ]
        }
      ]
    },
    {
      "cell_type": "code",
      "metadata": {
        "id": "ep3ILzGTr4mt",
        "colab": {
          "base_uri": "https://localhost:8080/"
        },
        "outputId": "4a9265ba-4673-43db-9b6c-b9ece279d834"
      },
      "source": [
        "s='madblocks'\n",
        "print(s[::3]) # start - 0, stop - till end - step -3"
      ],
      "execution_count": 67,
      "outputs": [
        {
          "output_type": "stream",
          "name": "stdout",
          "text": [
            "mbc\n"
          ]
        }
      ]
    },
    {
      "cell_type": "code",
      "metadata": {
        "id": "yr7sJQ61slrA"
      },
      "source": [
        "s='madblocks'\n",
        "print(s[::2]) # start - 0 stop - till last step - 2\n",
        "\n",
        "# mdlcs"
      ],
      "execution_count": null,
      "outputs": []
    },
    {
      "cell_type": "code",
      "metadata": {
        "id": "FeUq4nBes9ov",
        "colab": {
          "base_uri": "https://localhost:8080/"
        },
        "outputId": "ad511a8f-821e-4a64-cfec-3a233769b65e"
      },
      "source": [
        "s='madblocks'\n",
        "print(s[::-1]) # reversing the string"
      ],
      "execution_count": 68,
      "outputs": [
        {
          "output_type": "stream",
          "name": "stdout",
          "text": [
            "skcolbdam\n"
          ]
        }
      ]
    },
    {
      "cell_type": "code",
      "source": [
        "a=(1,2,3)\n",
        "print(a[::-1])"
      ],
      "metadata": {
        "colab": {
          "base_uri": "https://localhost:8080/"
        },
        "id": "rqdY14SGg3SP",
        "outputId": "178b4b2a-2274-4ed5-8249-7f1a6621b8d4"
      },
      "execution_count": 71,
      "outputs": [
        {
          "output_type": "stream",
          "name": "stdout",
          "text": [
            "(3, 2, 1)\n"
          ]
        }
      ]
    },
    {
      "cell_type": "code",
      "metadata": {
        "id": "pAQatf6etOez"
      },
      "source": [
        "s='ABCDEFGHIJKLMNOPQRSTUVWXYZ'\n",
        "print(s[::-2])\n",
        "\n",
        "# ZYXWVUTSRQPONMLKJIHGFEDCBA [::2]\n",
        "# ZXVTRPNLJHFDB\n",
        "\n",
        "# [::-1] skcolbdam [::2]\n",
        "# [::-2] scldm\n",
        "\n",
        "# [::-3] -> [::-1] -> [::3]"
      ],
      "execution_count": null,
      "outputs": []
    },
    {
      "cell_type": "code",
      "metadata": {
        "id": "WcpZUgDku7ar",
        "colab": {
          "base_uri": "https://localhost:8080/"
        },
        "outputId": "b90f899f-2215-41d0-e389-5df616399ae3"
      },
      "source": [
        "s=[33,37.5,'hello',3+2j]\n",
        "# int, float, str, complex\n",
        "# included in []\n",
        "print(type(s)) # type - built in method which is used to find data tatype\n",
        "print (s)"
      ],
      "execution_count": 72,
      "outputs": [
        {
          "output_type": "stream",
          "name": "stdout",
          "text": [
            "<class 'list'>\n",
            "[33, 37.5, 'hello', (3+2j)]\n"
          ]
        }
      ]
    },
    {
      "cell_type": "code",
      "metadata": {
        "id": "pVeoial5vcrD",
        "colab": {
          "base_uri": "https://localhost:8080/"
        },
        "outputId": "89b06db3-1262-4442-b26e-dbf5cd55f2bf"
      },
      "source": [
        "s=[33,37.5,'hello',3+2j]\n",
        "print(s[0],s[-1]) # index - 0, negative index -> -1"
      ],
      "execution_count": 73,
      "outputs": [
        {
          "output_type": "stream",
          "name": "stdout",
          "text": [
            "33 (3+2j)\n"
          ]
        }
      ]
    },
    {
      "cell_type": "code",
      "metadata": {
        "id": "1OywWJFNvv_0",
        "colab": {
          "base_uri": "https://localhost:8080/"
        },
        "outputId": "f885222e-df33-4b08-93c1-4ae9c9a66c1c"
      },
      "source": [
        "s=[33,37.5,'hello',3+2j]\n",
        "print(s[2]) # value at 2nd index"
      ],
      "execution_count": 74,
      "outputs": [
        {
          "output_type": "stream",
          "name": "stdout",
          "text": [
            "hello\n"
          ]
        }
      ]
    },
    {
      "cell_type": "code",
      "metadata": {
        "id": "6aAbCr6gwCW9",
        "colab": {
          "base_uri": "https://localhost:8080/"
        },
        "outputId": "14573193-21c0-4715-99bc-6342bd9e65ed"
      },
      "source": [
        "s=[33,37.5,'hello',3+2j]\n",
        "print(s[0:3]) # s[0], s[1],s[2]"
      ],
      "execution_count": 75,
      "outputs": [
        {
          "output_type": "stream",
          "name": "stdout",
          "text": [
            "[33, 37.5, 'hello']\n"
          ]
        }
      ]
    },
    {
      "cell_type": "code",
      "metadata": {
        "id": "N037UmfywaGu",
        "colab": {
          "base_uri": "https://localhost:8080/"
        },
        "outputId": "e13859b5-60e8-4722-91bf-fc9d77ed041e"
      },
      "source": [
        "s=[33,37.5,'hello',3+2j]\n",
        "print(s[:2]) # start - 0, stop - 2"
      ],
      "execution_count": 76,
      "outputs": [
        {
          "output_type": "stream",
          "name": "stdout",
          "text": [
            "[33, 37.5]\n"
          ]
        }
      ]
    },
    {
      "cell_type": "code",
      "metadata": {
        "id": "aMv3mhhKwm7-",
        "colab": {
          "base_uri": "https://localhost:8080/"
        },
        "outputId": "26314692-8d75-4b7e-daf1-8dd5a8020666"
      },
      "source": [
        "s=[1,2,3,4,5,6,7,8,9,10]\n",
        "print(s[0:7:2])\n",
        "# 0, 2, 4, 6"
      ],
      "execution_count": 77,
      "outputs": [
        {
          "output_type": "stream",
          "name": "stdout",
          "text": [
            "[1, 3, 5, 7]\n"
          ]
        }
      ]
    },
    {
      "cell_type": "code",
      "metadata": {
        "id": "AD1FCnlCxM3s",
        "colab": {
          "base_uri": "https://localhost:8080/"
        },
        "outputId": "a10e29ff-1920-4a30-d608-a24e2a437a9b"
      },
      "source": [
        "s=[33,37.5,'hello',3+2j]\n",
        "print(s[::-1])"
      ],
      "execution_count": 78,
      "outputs": [
        {
          "output_type": "stream",
          "name": "stdout",
          "text": [
            "[(3+2j), 'hello', 37.5, 33]\n"
          ]
        }
      ]
    },
    {
      "cell_type": "code",
      "metadata": {
        "id": "joDo_HFzxWJ_",
        "colab": {
          "base_uri": "https://localhost:8080/"
        },
        "outputId": "7975b6b7-a3d9-472c-8439-e43d9021e394"
      },
      "source": [
        "s=[33,37.5,'hello',3+2j] # s[::2], s[::-2] (s[::-1],s[::2])\n",
        "print (s[::-3])\n",
        "\n",
        "# reverse the list -> [::3]\n",
        "# [3+2j,'hello',37.5,33]  # reverse \n",
        "# 3+2j,37.5 "
      ],
      "execution_count": 79,
      "outputs": [
        {
          "output_type": "stream",
          "name": "stdout",
          "text": [
            "[(3+2j), 37.5]\n"
          ]
        }
      ]
    },
    {
      "cell_type": "code",
      "metadata": {
        "id": "Mypk_AWlyMbY",
        "colab": {
          "base_uri": "https://localhost:8080/"
        },
        "outputId": "67c57ac1-e11f-4b8c-e9eb-f28a8c23a405"
      },
      "source": [
        "s=[33,37.5,'hello']\n",
        "s[0]=35\n",
        "print (s) # lists are mutable"
      ],
      "execution_count": 80,
      "outputs": [
        {
          "output_type": "stream",
          "name": "stdout",
          "text": [
            "[35, 37.5, 'hello']\n"
          ]
        }
      ]
    },
    {
      "cell_type": "code",
      "metadata": {
        "id": "2VLEEKGNygvd"
      },
      "source": [
        "s=[33,37.5,'hello']\n",
        "a=10 # int value (non-list)\n",
        "s.append(a) # a is appended to the list s\n",
        "print (s)"
      ],
      "execution_count": null,
      "outputs": []
    },
    {
      "cell_type": "code",
      "metadata": {
        "id": "xtFtt_fXyzZX"
      },
      "source": [
        "s=[33,37.5,'hello']\n",
        "a=[10] # list\n",
        "print(s+a)\n"
      ],
      "execution_count": null,
      "outputs": []
    },
    {
      "cell_type": "code",
      "metadata": {
        "id": "dvLiVA7ozNVH",
        "colab": {
          "base_uri": "https://localhost:8080/"
        },
        "outputId": "2cce82ee-3d1d-4fa4-8fdd-89af5a5e71eb"
      },
      "source": [
        "a=[33,37.5]\n",
        "b=a # address of a is assigned to b (a,b are pointing to same addr)\n",
        "a[0]=35 # call by reference\n",
        "print (a)\n",
        "print (b)"
      ],
      "execution_count": 82,
      "outputs": [
        {
          "output_type": "stream",
          "name": "stdout",
          "text": [
            "[35, 37.5]\n",
            "[35, 37.5]\n"
          ]
        }
      ]
    },
    {
      "cell_type": "code",
      "metadata": {
        "id": "yRsJuwwqz3c7",
        "colab": {
          "base_uri": "https://localhost:8080/"
        },
        "outputId": "2e9e1696-db40-4895-ac82-0d24678df34f"
      },
      "source": [
        "a=[1,2]\n",
        "print(a*3)"
      ],
      "execution_count": 83,
      "outputs": [
        {
          "output_type": "stream",
          "name": "stdout",
          "text": [
            "[1, 2, 1, 2, 1, 2]\n"
          ]
        }
      ]
    },
    {
      "cell_type": "code",
      "metadata": {
        "id": "pNhziUWl0FZI",
        "colab": {
          "base_uri": "https://localhost:8080/"
        },
        "outputId": "12b6e748-29c1-4438-d5f9-7fb2ac8d2070"
      },
      "source": [
        "a='hi'\n",
        "print(a*3)"
      ],
      "execution_count": 84,
      "outputs": [
        {
          "output_type": "stream",
          "name": "stdout",
          "text": [
            "hihihi\n"
          ]
        }
      ]
    },
    {
      "cell_type": "code",
      "metadata": {
        "id": "WYiPsWLx0Rxe",
        "colab": {
          "base_uri": "https://localhost:8080/"
        },
        "outputId": "8db7c334-957b-4d05-a3c7-0abe250a08a2"
      },
      "source": [
        "# Tuple\n",
        "a=(33,37.5,'hello')\n",
        "print(type(a))"
      ],
      "execution_count": 85,
      "outputs": [
        {
          "output_type": "stream",
          "name": "stdout",
          "text": [
            "<class 'tuple'>\n"
          ]
        }
      ]
    },
    {
      "cell_type": "code",
      "metadata": {
        "id": "xHgKn7FW0f6f",
        "colab": {
          "base_uri": "https://localhost:8080/",
          "height": 237
        },
        "outputId": "ec652e12-51c4-4bfd-c8c6-7fa7695e68d3"
      },
      "source": [
        "a=(33,37.5,'hello')\n",
        "a[0]=35\n",
        "print (a) # Immutable like strings"
      ],
      "execution_count": 86,
      "outputs": [
        {
          "output_type": "error",
          "ename": "TypeError",
          "evalue": "ignored",
          "traceback": [
            "\u001b[0;31m---------------------------------------------------------------------------\u001b[0m",
            "\u001b[0;31mTypeError\u001b[0m                                 Traceback (most recent call last)",
            "\u001b[0;32m<ipython-input-86-26f149aa7cb8>\u001b[0m in \u001b[0;36m<module>\u001b[0;34m\u001b[0m\n\u001b[1;32m      1\u001b[0m \u001b[0ma\u001b[0m\u001b[0;34m=\u001b[0m\u001b[0;34m(\u001b[0m\u001b[0;36m33\u001b[0m\u001b[0;34m,\u001b[0m\u001b[0;36m37.5\u001b[0m\u001b[0;34m,\u001b[0m\u001b[0;34m'hello'\u001b[0m\u001b[0;34m)\u001b[0m\u001b[0;34m\u001b[0m\u001b[0;34m\u001b[0m\u001b[0m\n\u001b[0;32m----> 2\u001b[0;31m \u001b[0ma\u001b[0m\u001b[0;34m[\u001b[0m\u001b[0;36m0\u001b[0m\u001b[0;34m]\u001b[0m\u001b[0;34m=\u001b[0m\u001b[0;36m35\u001b[0m\u001b[0;34m\u001b[0m\u001b[0;34m\u001b[0m\u001b[0m\n\u001b[0m\u001b[1;32m      3\u001b[0m \u001b[0mprint\u001b[0m \u001b[0;34m(\u001b[0m\u001b[0ma\u001b[0m\u001b[0;34m)\u001b[0m \u001b[0;31m# Immutable like strings\u001b[0m\u001b[0;34m\u001b[0m\u001b[0;34m\u001b[0m\u001b[0m\n",
            "\u001b[0;31mTypeError\u001b[0m: 'tuple' object does not support item assignment"
          ]
        }
      ]
    },
    {
      "cell_type": "code",
      "metadata": {
        "id": "BgphXQvi0rm6",
        "colab": {
          "base_uri": "https://localhost:8080/"
        },
        "outputId": "b201c429-4493-42c7-8f3f-d72f663a1aba"
      },
      "source": [
        "a=(33,37.5,'hello')\n",
        "print (a)\n",
        "a=(1,2,3)\n",
        "print(a)"
      ],
      "execution_count": 87,
      "outputs": [
        {
          "output_type": "stream",
          "name": "stdout",
          "text": [
            "(33, 37.5, 'hello')\n",
            "(1, 2, 3)\n"
          ]
        }
      ]
    },
    {
      "cell_type": "code",
      "metadata": {
        "id": "Z0KXQLkC03Fz",
        "colab": {
          "base_uri": "https://localhost:8080/"
        },
        "outputId": "b81d0440-a00a-403a-9403-328db0229e62"
      },
      "source": [
        "a=(33,37.5,'hello')\n",
        "print(a[::-1])"
      ],
      "execution_count": 88,
      "outputs": [
        {
          "output_type": "stream",
          "name": "stdout",
          "text": [
            "('hello', 37.5, 33)\n"
          ]
        }
      ]
    },
    {
      "cell_type": "code",
      "metadata": {
        "id": "RdYbcuI11UWM",
        "colab": {
          "base_uri": "https://localhost:8080/"
        },
        "outputId": "9b94f957-9ad5-4099-9701-59c0dc1e93d8"
      },
      "source": [
        "a={1:'madhu',2:'madhu'}\n",
        "# keys - 1,2\n",
        "# values - hello,madhu\n",
        "print(type(a))"
      ],
      "execution_count": 89,
      "outputs": [
        {
          "output_type": "stream",
          "name": "stdout",
          "text": [
            "<class 'dict'>\n"
          ]
        }
      ]
    },
    {
      "cell_type": "code",
      "metadata": {
        "id": "x7C75eaV1ogN",
        "colab": {
          "base_uri": "https://localhost:8080/"
        },
        "outputId": "fad03c03-ffeb-497b-a810-d84d2c16bc66"
      },
      "source": [
        "a={1:'hello'}\n",
        "print(a[1])"
      ],
      "execution_count": 90,
      "outputs": [
        {
          "output_type": "stream",
          "name": "stdout",
          "text": [
            "hello\n"
          ]
        }
      ]
    },
    {
      "cell_type": "code",
      "metadata": {
        "id": "-P7XuT091y17",
        "colab": {
          "base_uri": "https://localhost:8080/"
        },
        "outputId": "470c4870-a7bc-4ebe-b450-cd25f1dbd138"
      },
      "source": [
        "a={1:'hello',1:'madhu'}\n",
        "print (a)"
      ],
      "execution_count": 91,
      "outputs": [
        {
          "output_type": "stream",
          "name": "stdout",
          "text": [
            "{1: 'madhu'}\n"
          ]
        }
      ]
    },
    {
      "cell_type": "code",
      "metadata": {
        "id": "vbSCTagG2ArF"
      },
      "source": [
        "a={'abc':'hello',1:'hello'}\n",
        "# keys - abc,1\n",
        "# values - hello, hello\n",
        "print (a)"
      ],
      "execution_count": null,
      "outputs": []
    },
    {
      "cell_type": "code",
      "metadata": {
        "id": "KJ_ykFhu2PUt",
        "colab": {
          "base_uri": "https://localhost:8080/"
        },
        "outputId": "f28e733c-ca22-4f5e-8362-8ba5aa8b7eee"
      },
      "source": [
        "a={1:'hello'} # dictionary\n",
        "a[2]='hi' # a[2]='hi' 2 - key, hi - value\n",
        "print (a)\n",
        "\n",
        "#a[new_key]=value\n"
      ],
      "execution_count": 92,
      "outputs": [
        {
          "output_type": "stream",
          "name": "stdout",
          "text": [
            "{1: 'hello', 2: 'hi'}\n"
          ]
        }
      ]
    },
    {
      "cell_type": "code",
      "metadata": {
        "id": "igbB1MjK2yJM",
        "colab": {
          "base_uri": "https://localhost:8080/"
        },
        "outputId": "01f8f798-187b-4b52-caa2-46f33c9050fe"
      },
      "source": [
        "a=False\n",
        "print(type(a))"
      ],
      "execution_count": 93,
      "outputs": [
        {
          "output_type": "stream",
          "name": "stdout",
          "text": [
            "<class 'bool'>\n"
          ]
        }
      ]
    },
    {
      "cell_type": "code",
      "metadata": {
        "id": "URj-kEW62-Nn"
      },
      "source": [
        "a={1:'hello','abc':'hello'}\n",
        "print (a) # same values, but keys should be unique"
      ],
      "execution_count": null,
      "outputs": []
    },
    {
      "cell_type": "code",
      "metadata": {
        "id": "mGe_-2BU3IxT",
        "colab": {
          "base_uri": "https://localhost:8080/"
        },
        "outputId": "e623abe6-b958-4189-9de0-869bfa8115b8"
      },
      "source": [
        "a={'hello','hello'} # values are duplicated\n",
        "print(type(a))"
      ],
      "execution_count": 94,
      "outputs": [
        {
          "output_type": "stream",
          "name": "stdout",
          "text": [
            "<class 'set'>\n"
          ]
        }
      ]
    },
    {
      "cell_type": "code",
      "metadata": {
        "id": "RJN_7Q-D3YEY",
        "colab": {
          "base_uri": "https://localhost:8080/"
        },
        "outputId": "0e8f7e6a-29c8-4379-85d6-78bd031ef2b5"
      },
      "source": [
        "a={'hello','hello'} # values are duplicated\n",
        "print(a) # In sets, values are not duplicated"
      ],
      "execution_count": 95,
      "outputs": [
        {
          "output_type": "stream",
          "name": "stdout",
          "text": [
            "{'hello'}\n"
          ]
        }
      ]
    },
    {
      "cell_type": "code",
      "metadata": {
        "id": "XzqZJgnB3k9n",
        "colab": {
          "base_uri": "https://localhost:8080/"
        },
        "outputId": "dd3d8ace-97bf-4375-b7f7-80c5d0f0900c"
      },
      "source": [
        "a={'apple','hello'} # unordered\n",
        "print (a)\n",
        "\n",
        "# list,tuple,string - ordered type - index access\n",
        "# set - unordered type "
      ],
      "execution_count": 96,
      "outputs": [
        {
          "output_type": "stream",
          "name": "stdout",
          "text": [
            "{'hello', 'apple'}\n"
          ]
        }
      ]
    },
    {
      "cell_type": "code",
      "metadata": {
        "id": "dqcjc3oq4Kn6",
        "colab": {
          "base_uri": "https://localhost:8080/"
        },
        "outputId": "d7168ec0-6601-4d9a-c629-50eeae18e0d4"
      },
      "source": [
        "a={'apple','hello'}\n",
        "a.add(20)\n",
        "print (a)"
      ],
      "execution_count": 97,
      "outputs": [
        {
          "output_type": "stream",
          "name": "stdout",
          "text": [
            "{20, 'hello', 'apple'}\n"
          ]
        }
      ]
    },
    {
      "cell_type": "code",
      "metadata": {
        "id": "pTOzWMy44dMh",
        "colab": {
          "base_uri": "https://localhost:8080/"
        },
        "outputId": "d48421ba-2633-4103-a611-effc52bddd0e"
      },
      "source": [
        "a=range(1,6) # start, stop [1,2,3,4,5]\n",
        "print (a)"
      ],
      "execution_count": 98,
      "outputs": [
        {
          "output_type": "stream",
          "name": "stdout",
          "text": [
            "range(1, 6)\n"
          ]
        }
      ]
    },
    {
      "cell_type": "code",
      "metadata": {
        "id": "fuTRSMEm4whI",
        "colab": {
          "base_uri": "https://localhost:8080/"
        },
        "outputId": "d14c5698-bec2-4012-c60d-d5e490acff23"
      },
      "source": [
        "a=range(1,6) # start, stop [1,2,3,4,5]\n",
        "print (type(a))"
      ],
      "execution_count": 99,
      "outputs": [
        {
          "output_type": "stream",
          "name": "stdout",
          "text": [
            "<class 'range'>\n"
          ]
        }
      ]
    },
    {
      "cell_type": "code",
      "metadata": {
        "id": "U3GzKqVH415j"
      },
      "source": [
        "a=range(6) # start - 0 -> [0,1,2,3,4,5]\n",
        "print (a)"
      ],
      "execution_count": null,
      "outputs": []
    },
    {
      "cell_type": "code",
      "metadata": {
        "id": "GWr4A6__5GEF"
      },
      "source": [
        "a='hello'\n",
        "print(a) # str"
      ],
      "execution_count": null,
      "outputs": []
    },
    {
      "cell_type": "code",
      "metadata": {
        "id": "9yz14I7t5OhD",
        "colab": {
          "base_uri": "https://localhost:8080/"
        },
        "outputId": "e9f8a46e-0618-4056-8a8d-a2e50a8fe0fc"
      },
      "source": [
        "# bytes -> encode/decode string values\n",
        "a='hello'\n",
        "b=a.encode('utf-8') # b - bytes datatype\n",
        "print (b)\n",
        "print (a[0],b[0],type(a),type(b))"
      ],
      "execution_count": 100,
      "outputs": [
        {
          "output_type": "stream",
          "name": "stdout",
          "text": [
            "b'hello'\n",
            "h 104 <class 'str'> <class 'bytes'>\n"
          ]
        }
      ]
    },
    {
      "cell_type": "code",
      "metadata": {
        "id": "xECqx-yF5wSg",
        "colab": {
          "base_uri": "https://localhost:8080/"
        },
        "outputId": "56444b41-d53e-443f-a36b-899a532e909b"
      },
      "source": [
        "a='hello'\n",
        "b=a.encode('utf-8') # bytes datatype of a\n",
        "c=b.decode('utf-8') # str\n",
        "print (a, type(a))\n",
        "print (b, type(b))\n",
        "print (c, type(c))"
      ],
      "execution_count": 101,
      "outputs": [
        {
          "output_type": "stream",
          "name": "stdout",
          "text": [
            "hello <class 'str'>\n",
            "b'hello' <class 'bytes'>\n",
            "hello <class 'str'>\n"
          ]
        }
      ]
    },
    {
      "cell_type": "code",
      "metadata": {
        "id": "jEBNoU3h7lWW"
      },
      "source": [
        "s='mad\\\\\"blocks'\n",
        "print (s)"
      ],
      "execution_count": null,
      "outputs": []
    },
    {
      "cell_type": "code",
      "metadata": {
        "id": "tzlSzemSgIO9"
      },
      "source": [
        "# Arthimetical Operators\n",
        "a=33\n",
        "b=37.5\n",
        "print(a+b)"
      ],
      "execution_count": null,
      "outputs": []
    },
    {
      "cell_type": "code",
      "metadata": {
        "id": "1cPjvO1_gV8q"
      },
      "source": [
        "# Arithmetical Operators\n",
        "a=33\n",
        "b=37.5\n",
        "print(a-b)"
      ],
      "execution_count": null,
      "outputs": []
    },
    {
      "cell_type": "code",
      "metadata": {
        "id": "5ZeOR9VoghcX"
      },
      "source": [
        "# Arithmetical Opreators\n",
        "a=33\n",
        "b=2\n",
        "print(a*b)"
      ],
      "execution_count": null,
      "outputs": []
    },
    {
      "cell_type": "code",
      "metadata": {
        "id": "PEAPNw4MgoLJ"
      },
      "source": [
        "# Arithmetical Operators\n",
        "a=32 # int\n",
        "b=2 # int\n",
        "print(a/b) #float"
      ],
      "execution_count": null,
      "outputs": []
    },
    {
      "cell_type": "code",
      "metadata": {
        "id": "ilztJ-J5g2OE"
      },
      "source": [
        "# Arithmetical Operators\n",
        "a=32 \n",
        "b=2\n",
        "print(a%b) # remainder"
      ],
      "execution_count": null,
      "outputs": []
    },
    {
      "cell_type": "code",
      "metadata": {
        "id": "dEq7c8KPhAxp",
        "colab": {
          "base_uri": "https://localhost:8080/"
        },
        "outputId": "b05b08f4-05e8-4f19-d17c-65876e80a1bc"
      },
      "source": [
        "a=-9\n",
        "b=4\n",
        "print(a%b) # -5%2 -> -5 = (1-6)%2 = 1%2 - 6%2 = 1 - 0 = 1\n",
        "\n",
        "# %, math.fmod() -> -1 when you have negative numbers you have to do like this"
      ],
      "execution_count": 104,
      "outputs": [
        {
          "output_type": "stream",
          "name": "stdout",
          "text": [
            "3\n"
          ]
        }
      ]
    },
    {
      "cell_type": "code",
      "source": [
        "6/2"
      ],
      "metadata": {
        "colab": {
          "base_uri": "https://localhost:8080/"
        },
        "id": "H1aMXKmi8WZi",
        "outputId": "90eaac48-a4db-451b-feee-30a9f19b7868"
      },
      "execution_count": 102,
      "outputs": [
        {
          "output_type": "execute_result",
          "data": {
            "text/plain": [
              "3.0"
            ]
          },
          "metadata": {},
          "execution_count": 102
        }
      ]
    },
    {
      "cell_type": "code",
      "metadata": {
        "id": "Jj0NB4UCiMvC",
        "colab": {
          "base_uri": "https://localhost:8080/"
        },
        "outputId": "337edd7c-5f26-4eb8-b228-93a89c88e85b"
      },
      "source": [
        "a=-2000 # (7-2007)%3 = 7%3 - 2007%3 = 1 - 0 = 1\n",
        "b=3\n",
        "print(a%b) # -> -2000 = (1-2001)%3 = 1%3 - 2001%3 = 1 - 0 = 1"
      ],
      "execution_count": 105,
      "outputs": [
        {
          "output_type": "stream",
          "name": "stdout",
          "text": [
            "1\n"
          ]
        }
      ]
    },
    {
      "cell_type": "code",
      "metadata": {
        "id": "7d-kx82Yjhoj",
        "colab": {
          "base_uri": "https://localhost:8080/"
        },
        "outputId": "fb73e59d-3e07-476c-93af-a344f87ffc91"
      },
      "source": [
        "a=-242 # 1-243\n",
        "b=3 # 243%3 = 0\n",
        "print(a%b)"
      ],
      "execution_count": 106,
      "outputs": [
        {
          "output_type": "stream",
          "name": "stdout",
          "text": [
            "1\n"
          ]
        }
      ]
    },
    {
      "cell_type": "code",
      "metadata": {
        "id": "yWSfntCzkWrV"
      },
      "source": [
        "# Arithmetical Operator\n",
        "a=2\n",
        "b=3 \n",
        "print(a**b) # Exponent (2**3) = 2^3 = 8"
      ],
      "execution_count": null,
      "outputs": []
    },
    {
      "cell_type": "code",
      "metadata": {
        "id": "nQm_vtNBkyWZ"
      },
      "source": [
        "# Arithmetical Operator\n",
        "a=2\n",
        "b=3 # 2/3 = 0.33333 = 0 \n",
        "print(a//b) # floor division operator"
      ],
      "execution_count": null,
      "outputs": []
    },
    {
      "cell_type": "code",
      "metadata": {
        "id": "duLsp_6ZlISQ"
      },
      "source": [
        "a=4E7 #(4*10^7)\n",
        "print (a)\n",
        "a=4**7 #(4^7)\n",
        "print (a)"
      ],
      "execution_count": null,
      "outputs": []
    },
    {
      "cell_type": "code",
      "metadata": {
        "id": "Tmht3XDllX08"
      },
      "source": [
        "a=25\n",
        "b=3\n",
        "print(a//b) # Quotient, perform rounding near towards zero\n",
        "# 25/3 = 8.3333 (8, 9)"
      ],
      "execution_count": null,
      "outputs": []
    },
    {
      "cell_type": "code",
      "metadata": {
        "id": "AkZguPkclsQK",
        "colab": {
          "base_uri": "https://localhost:8080/"
        },
        "outputId": "3b7aebcd-6c90-4a90-8f14-b7d6cee3b772"
      },
      "source": [
        "a=-25\n",
        "b=3\n",
        "print(a//b) # -25/3 = -8.333 (-8, -9)\n",
        "# Note - When you have a negative number, you have to\n",
        "  # perform rounding away from zero "
      ],
      "execution_count": 108,
      "outputs": [
        {
          "output_type": "stream",
          "name": "stdout",
          "text": [
            "-9\n"
          ]
        }
      ]
    },
    {
      "cell_type": "code",
      "metadata": {
        "id": "VeGAUXTumcjW",
        "colab": {
          "base_uri": "https://localhost:8080/"
        },
        "outputId": "46f88fc2-14df-4f6c-a4f7-1538010fa00a"
      },
      "source": [
        "a=-341\n",
        "b=3\n",
        "print(a//b) # (-341/3 = -113.)"
      ],
      "execution_count": 109,
      "outputs": [
        {
          "output_type": "stream",
          "name": "stdout",
          "text": [
            "-114\n"
          ]
        }
      ]
    },
    {
      "cell_type": "code",
      "metadata": {
        "id": "Ft27Y6wPnKVN"
      },
      "source": [
        "# Comparision Operators\n",
        "a=33\n",
        "b=33\n",
        "c=2\n",
        "print(a==b) # the values will be compared\n",
        "print(a==c)"
      ],
      "execution_count": null,
      "outputs": []
    },
    {
      "cell_type": "code",
      "metadata": {
        "id": "oLB8l2IknjHL"
      },
      "source": [
        "# Comparision Operator\n",
        "a=33\n",
        "b=33\n",
        "c=2\n",
        "print(a!=b) # 33!=33 - False \n",
        "print(a!=c) # 33!=2 - True"
      ],
      "execution_count": null,
      "outputs": []
    },
    {
      "cell_type": "code",
      "metadata": {
        "id": "TAvA7vnOnzx3"
      },
      "source": [
        "# Comparision Operator\n",
        "a=33\n",
        "b=2\n",
        "print(a>b) # 33>2 "
      ],
      "execution_count": null,
      "outputs": []
    },
    {
      "cell_type": "code",
      "metadata": {
        "id": "u96uL7nnoBm0"
      },
      "source": [
        "# Comparision Operator\n",
        "a=33\n",
        "b=33\n",
        "print(a>=b) # True"
      ],
      "execution_count": null,
      "outputs": []
    },
    {
      "cell_type": "code",
      "metadata": {
        "id": "juVBsPRioKMl"
      },
      "source": [
        "# Comparsion Operator\n",
        "a=33\n",
        "b=2\n",
        "print(a<b) # 33<2 -> False"
      ],
      "execution_count": null,
      "outputs": []
    },
    {
      "cell_type": "code",
      "metadata": {
        "id": "SaO1xdcYoQvU"
      },
      "source": [
        "# Comparision Operator\n",
        "a=33\n",
        "b=2\n",
        "print(a<=b) # 33<=2 -> False"
      ],
      "execution_count": null,
      "outputs": []
    },
    {
      "cell_type": "code",
      "metadata": {
        "id": "uZfMZX8fooPe"
      },
      "source": [
        "# Assignment Operators\n",
        "\n",
        "a=3\n",
        "b=2\n",
        "a+=b # a=a+b (3+2)\n",
        "print (a)"
      ],
      "execution_count": null,
      "outputs": []
    },
    {
      "cell_type": "code",
      "metadata": {
        "id": "dpV8_Ru_o21B"
      },
      "source": [
        "# Assignment Operators\n",
        "a=3\n",
        "b=2\n",
        "a-=b # a=a-b -> 3-2\n",
        "print (a)"
      ],
      "execution_count": null,
      "outputs": []
    },
    {
      "cell_type": "code",
      "metadata": {
        "id": "etBlRffHpCnG"
      },
      "source": [
        "# Assignment Operators\n",
        "a=3\n",
        "b=2\n",
        "a*=b # a=a*b -> 3*2\n",
        "print (a)"
      ],
      "execution_count": null,
      "outputs": []
    },
    {
      "cell_type": "code",
      "metadata": {
        "id": "kS-vtZcLpKPI"
      },
      "source": [
        "# Assignment Operators\n",
        "a=3\n",
        "b=2\n",
        "a/=b # a=a/b -> 3/2\n",
        "print (a)"
      ],
      "execution_count": null,
      "outputs": []
    },
    {
      "cell_type": "code",
      "metadata": {
        "id": "nmcldfH-pY3s"
      },
      "source": [
        "# Assignment Operators\n",
        "a=3\n",
        "b=2\n",
        "a%=b # -> a=a%b -> 3%2\n",
        "print (a)"
      ],
      "execution_count": null,
      "outputs": []
    },
    {
      "cell_type": "code",
      "metadata": {
        "id": "jIcA_RVvpipG"
      },
      "source": [
        "# Assignment Operators\n",
        "a=3\n",
        "b=2\n",
        "a//=b # -> a=a//b\n",
        "print (a)"
      ],
      "execution_count": null,
      "outputs": []
    },
    {
      "cell_type": "code",
      "metadata": {
        "id": "i_qRaELwpsZe"
      },
      "source": [
        "# Assignment Operators\n",
        "a=3\n",
        "b=2\n",
        "a**=b # a=a**b = 3**2 = 9\n",
        "print (a)"
      ],
      "execution_count": null,
      "outputs": []
    },
    {
      "cell_type": "code",
      "metadata": {
        "id": "s5mcyVRhqKd9",
        "colab": {
          "base_uri": "https://localhost:8080/"
        },
        "outputId": "4c36892e-3d4e-439a-bb8c-e913ede2d434"
      },
      "source": [
        "# Bitwise Operators\n",
        "a=3 # 0 0 1 1\n",
        "b=2 # 0 0 1 0\n",
        "#     0 0 1 0 -> 2\n",
        "print(a&b) "
      ],
      "execution_count": 110,
      "outputs": [
        {
          "output_type": "stream",
          "name": "stdout",
          "text": [
            "2\n"
          ]
        }
      ]
    },
    {
      "cell_type": "code",
      "metadata": {
        "id": "u12VIT-gqmkD",
        "colab": {
          "base_uri": "https://localhost:8080/"
        },
        "outputId": "6d33a77b-1996-4c99-eb7e-7e89a6ca4e2a"
      },
      "source": [
        "# Bitwise Operators\n",
        "a=3 # 0 0 1 1\n",
        "b=2 # 0 0 1 0\n",
        "#     0 0 1 1 -> 3\n",
        "print(a|b)"
      ],
      "execution_count": 111,
      "outputs": [
        {
          "output_type": "stream",
          "name": "stdout",
          "text": [
            "3\n"
          ]
        }
      ]
    },
    {
      "cell_type": "code",
      "metadata": {
        "id": "JnhVJ2Cdq3Sa"
      },
      "source": [
        "# Bitwise Operators\n",
        "a=3 # 0 0 1 1\n",
        "b=2 # 0 0 1 0\n",
        "#     0 0 0 1 -> 1\n",
        "print(a^b) # Bitwise XOR "
      ],
      "execution_count": null,
      "outputs": []
    },
    {
      "cell_type": "code",
      "metadata": {
        "id": "jVGz8APXrQ8B"
      },
      "source": [
        "# Bitwise Operators\n",
        "a=5\n",
        "print(~a) # -(a+1) -> -(5+1) = -6"
      ],
      "execution_count": null,
      "outputs": []
    },
    {
      "cell_type": "code",
      "metadata": {
        "id": "EL6sx_wsrlFA"
      },
      "source": [
        "# Bitwise Operators\n",
        "a=4\n",
        "print(a<<1) # Bitwise Left Shift \n",
        "# the value 4 should be shifted towards leftside for one time\n",
        "# answer is you have to double the value"
      ],
      "execution_count": null,
      "outputs": []
    },
    {
      "cell_type": "code",
      "metadata": {
        "id": "d3tx5bbCr857"
      },
      "source": [
        "# Bitwise Operators\n",
        "a=24\n",
        "print(a>>1) # Bitwise Right Shift\n",
        "# the value 24 should be shifted towards rightside for one time\n",
        "# the answer is half of the given value"
      ],
      "execution_count": null,
      "outputs": []
    },
    {
      "cell_type": "code",
      "metadata": {
        "id": "qlnCT7P7sWXQ"
      },
      "source": [
        "# Logical Operators\n",
        "a=33\n",
        "b=5\n",
        "c=2\n",
        "print (a>b and a>c) # 33>5 (T) and 33>2 (T)\n",
        "# T and T - T\n",
        "# F and T - F\n",
        "# T and F - F\n",
        "# F and F - F"
      ],
      "execution_count": null,
      "outputs": []
    },
    {
      "cell_type": "code",
      "metadata": {
        "id": "7Ngq2efoszRk"
      },
      "source": [
        "# Logical Operators\n",
        "a=33\n",
        "b=5\n",
        "c=2\n",
        "print (a>b or b<c) # 33>5 (T) or 5<2 (F)\n",
        "# T or T - T\n",
        "# T or F - T\n",
        "# F or T - T\n",
        "# F or F - F"
      ],
      "execution_count": null,
      "outputs": []
    },
    {
      "cell_type": "code",
      "metadata": {
        "id": "nojux53KtGwD"
      },
      "source": [
        "# Logical Operators\n",
        "a=True\n",
        "print(not a)"
      ],
      "execution_count": null,
      "outputs": []
    },
    {
      "cell_type": "code",
      "metadata": {
        "id": "ORUL3qSqtZKj",
        "colab": {
          "base_uri": "https://localhost:8080/"
        },
        "outputId": "376d6515-6828-4288-bd1b-1d955e4b52fe"
      },
      "source": [
        "# Membership Operators\n",
        "# 1. in\n",
        "a=[23,'hello'] # Sequence Type - List, Tuple, range\n",
        "b=23\n",
        "print(b in a) # whether b is a member of a or not\n",
        "# Member - True (23)\n",
        "# Non Member - False (33)"
      ],
      "execution_count": 112,
      "outputs": [
        {
          "output_type": "stream",
          "name": "stdout",
          "text": [
            "True\n"
          ]
        }
      ]
    },
    {
      "cell_type": "code",
      "metadata": {
        "id": "fL-LaPSUuFhu",
        "colab": {
          "base_uri": "https://localhost:8080/"
        },
        "outputId": "37bd2784-4614-4908-8e43-f1b6e2ad9a2c"
      },
      "source": [
        "# Membership Operators\n",
        "# 2. not in\n",
        "a=[23,'hello']\n",
        "b=33\n",
        "print(b not in a) # b is not a member of a\n",
        "\n",
        "# Member - False (23)\n",
        "# Non Member - True (33)"
      ],
      "execution_count": 113,
      "outputs": [
        {
          "output_type": "stream",
          "name": "stdout",
          "text": [
            "True\n"
          ]
        }
      ]
    },
    {
      "cell_type": "code",
      "metadata": {
        "id": "j1vQXHHfuevr",
        "colab": {
          "base_uri": "https://localhost:8080/",
          "height": 132
        },
        "outputId": "6b1111d7-30b4-43e2-b573-61a6e48fa30b"
      },
      "source": [
        "a=[1,2,3]\n",
        "b=5\n",
        "print(b in not a) # in not -> not in"
      ],
      "execution_count": 114,
      "outputs": [
        {
          "output_type": "error",
          "ename": "SyntaxError",
          "evalue": "ignored",
          "traceback": [
            "\u001b[0;36m  File \u001b[0;32m\"<ipython-input-114-1adfb41dfe59>\"\u001b[0;36m, line \u001b[0;32m3\u001b[0m\n\u001b[0;31m    print(b in not a) # in not -> not in\u001b[0m\n\u001b[0m                 ^\u001b[0m\n\u001b[0;31mSyntaxError\u001b[0m\u001b[0;31m:\u001b[0m invalid syntax\n"
          ]
        }
      ]
    },
    {
      "cell_type": "code",
      "metadata": {
        "id": "n0lx70wavL85",
        "colab": {
          "base_uri": "https://localhost:8080/"
        },
        "outputId": "00e871d0-f020-4473-f986-3fa55aa737e9"
      },
      "source": [
        "# identity operator\n",
        "# 1. is\n",
        "a=10 # int 1000\n",
        "b=10 # int 1000\n",
        "print (a is b) # address comes into place\n",
        "print (a==b) # values comes into place\n",
        "#Note: When integer values are same, both the variables\n",
        "# are pointing the same address\n"
      ],
      "execution_count": 115,
      "outputs": [
        {
          "output_type": "stream",
          "name": "stdout",
          "text": [
            "True\n",
            "True\n"
          ]
        }
      ]
    },
    {
      "cell_type": "code",
      "metadata": {
        "id": "v5VHiYVLv1vb",
        "colab": {
          "base_uri": "https://localhost:8080/"
        },
        "outputId": "64939532-a0b5-49b9-e22e-9dddebf8d064"
      },
      "source": [
        "a=10.5 # float 1000\n",
        "b=10.5 # float 2000\n",
        "print(a is b) # addresses\n",
        "print(a==b) # values\n",
        "#Note: Though floating point values are same, but the variables\n",
        "# will have seperate addresses"
      ],
      "execution_count": 116,
      "outputs": [
        {
          "output_type": "stream",
          "name": "stdout",
          "text": [
            "False\n",
            "True\n"
          ]
        }
      ]
    },
    {
      "cell_type": "code",
      "metadata": {
        "id": "08xzeoaIwaBC",
        "colab": {
          "base_uri": "https://localhost:8080/"
        },
        "outputId": "e8f8b4b5-9065-4ed3-ba5a-6559c7c9ff61"
      },
      "source": [
        "a='hi'\n",
        "b='hi'\n",
        "print(a is b)\n",
        "print(a==b)"
      ],
      "execution_count": 117,
      "outputs": [
        {
          "output_type": "stream",
          "name": "stdout",
          "text": [
            "True\n",
            "True\n"
          ]
        }
      ]
    },
    {
      "cell_type": "code",
      "metadata": {
        "id": "b2YkiSaZwqkw",
        "colab": {
          "base_uri": "https://localhost:8080/"
        },
        "outputId": "5937b49d-68c5-43a6-b85f-db7d3850518e"
      },
      "source": [
        "a=[1,2,3,4,5]\n",
        "b=a # variables a,b are pointing to the same address\n",
        "print(a is b) # they should point to the same address\n",
        "print(a==b) # they should have same values"
      ],
      "execution_count": 118,
      "outputs": [
        {
          "output_type": "stream",
          "name": "stdout",
          "text": [
            "True\n",
            "True\n"
          ]
        }
      ]
    },
    {
      "cell_type": "code",
      "metadata": {
        "id": "1vdG4ioIxDGn",
        "colab": {
          "base_uri": "https://localhost:8080/"
        },
        "outputId": "3b722874-b9d3-418c-c93e-69c0c2bf126e"
      },
      "source": [
        "a=[1,2,3,4,5]\n",
        "b=list(a) # a - 1000, b - 2000 values will be copied but not addr\n",
        "print(a is b)\n",
        "print(a==b)"
      ],
      "execution_count": 119,
      "outputs": [
        {
          "output_type": "stream",
          "name": "stdout",
          "text": [
            "False\n",
            "True\n"
          ]
        }
      ]
    },
    {
      "cell_type": "code",
      "metadata": {
        "id": "TCU_T5Urxhr2",
        "colab": {
          "base_uri": "https://localhost:8080/"
        },
        "outputId": "2ebac6bf-04ae-4b9b-910d-4decef589776"
      },
      "source": [
        "# identity operator\n",
        "a=20\n",
        "b=20\n",
        "print(a is b)\n",
        "print(a is not b) # address are not same - true"
      ],
      "execution_count": 120,
      "outputs": [
        {
          "output_type": "stream",
          "name": "stdout",
          "text": [
            "True\n",
            "False\n"
          ]
        }
      ]
    },
    {
      "cell_type": "code",
      "metadata": {
        "id": "Uym5cTStxyeR",
        "colab": {
          "base_uri": "https://localhost:8080/",
          "height": 132
        },
        "outputId": "e6c1d9a4-cd33-49c1-ba47-1a077450a469"
      },
      "source": [
        "a=10.5\n",
        "b=10.5\n",
        "print(a not is b) # there is no such operator"
      ],
      "execution_count": 121,
      "outputs": [
        {
          "output_type": "error",
          "ename": "SyntaxError",
          "evalue": "ignored",
          "traceback": [
            "\u001b[0;36m  File \u001b[0;32m\"<ipython-input-121-5a1106cd0f69>\"\u001b[0;36m, line \u001b[0;32m3\u001b[0m\n\u001b[0;31m    print(a not is b) # there is no such operator\u001b[0m\n\u001b[0m                 ^\u001b[0m\n\u001b[0;31mSyntaxError\u001b[0m\u001b[0;31m:\u001b[0m invalid syntax\n"
          ]
        }
      ]
    },
    {
      "cell_type": "code",
      "metadata": {
        "id": "dFatRexsmvtC",
        "colab": {
          "base_uri": "https://localhost:8080/"
        },
        "outputId": "6faa1406-77ee-44a5-a98c-b094e0b36de0"
      },
      "source": [
        "a = 13\n",
        "rem = a%2 # rem = 1\n",
        "if(rem == 0): # conditinal statement\n",
        "  print(\"Given number is even\") #B1\n",
        "  print(\"Hello\") #B2\n",
        "print(\"hello madBlocks\") #not a branching statement"
      ],
      "execution_count": 123,
      "outputs": [
        {
          "output_type": "stream",
          "name": "stdout",
          "text": [
            "hello madBlocks\n"
          ]
        }
      ]
    },
    {
      "cell_type": "code",
      "metadata": {
        "id": "GWaD9QAjrHOL"
      },
      "source": [
        "#if--else-------\n",
        "a = int(input(\"enter a number : \"))\n",
        "if(a%2 == 0): #11%2 = 1\n",
        "  print(\"Given number is \",a) #braching statement for if\n",
        "  print(\"it is an even number\")\n",
        "else:\n",
        "  print(\"Given number is \",a) #braching statement for else\n",
        "  print(\"it is an odd number\")\n",
        "  print(\"hello madBlocks\")"
      ],
      "execution_count": null,
      "outputs": []
    },
    {
      "cell_type": "code",
      "metadata": {
        "id": "BdRp6e7vw9oO"
      },
      "source": [
        "x = 30\n",
        "y = 20\n",
        "z = 23\n",
        "w = 25\n",
        "\n",
        "if(x > y and x > z and x > w): # 12 > 20(F) and 12 > 23(F) -> F\n",
        "  print(\"X is greater\")\n",
        "elif(y > x and y > z and y > w): # 20 > 12(T) and 20 > 23(F) -> F\n",
        "  print(\"Y is greater\")\n",
        "elif(z > x and z > y and z > w): # 23 > 12(T) and 23 > 20(T) -> T\n",
        "  print(\"Z is greater\")\n",
        "else:\n",
        "  print(\"w is greater\")\n",
        "\n"
      ],
      "execution_count": null,
      "outputs": []
    },
    {
      "cell_type": "code",
      "metadata": {
        "id": "ME_ObjkH3WcR"
      },
      "source": [
        "# 1 2 3 4 5\n",
        "a = 1\n",
        "while(a <= 5): # conditional statement 1,2,3,------8,9,10 < 10(F)\n",
        "  print(a) #BS1 1,2,3-----8,9\n",
        "  a = a+1  #BS2 a = 2,3------9,10"
      ],
      "execution_count": null,
      "outputs": []
    },
    {
      "cell_type": "code",
      "metadata": {
        "id": "zfnMtee87D6S",
        "colab": {
          "base_uri": "https://localhost:8080/"
        },
        "outputId": "2d5920f6-d4ad-4f40-9d09-37acdf40bcc3"
      },
      "source": [
        "l = [1,\"hello madBlocks\",3+4j]\n",
        "for i in l: #CS\n",
        "  print(i) #BS"
      ],
      "execution_count": 124,
      "outputs": [
        {
          "output_type": "stream",
          "name": "stdout",
          "text": [
            "1\n",
            "hello madBlocks\n",
            "(3+4j)\n"
          ]
        }
      ]
    },
    {
      "cell_type": "code",
      "metadata": {
        "id": "t1nCnCwo8aH7"
      },
      "source": [
        "l = [1,\"hello madBloacks\",3+4j]\n",
        "for i in range(0,3): #i = 0,1,2-----6,7\n",
        "  print(l[i]) # l[0],l[1],l[2]-----l[6]"
      ],
      "execution_count": null,
      "outputs": []
    },
    {
      "cell_type": "code",
      "metadata": {
        "id": "FKSEmdip-kJa"
      },
      "source": [
        "#1 to 9\n",
        "for i in range(1,10,5): #i = 1,6,11\n",
        "  print(i) #1,6"
      ],
      "execution_count": null,
      "outputs": []
    },
    {
      "cell_type": "code",
      "metadata": {
        "id": "b3UlBgSIAgC9",
        "colab": {
          "base_uri": "https://localhost:8080/"
        },
        "outputId": "6a6551ff-55b9-4995-f3da-698bc00e50ec"
      },
      "source": [
        "a = 1\n",
        "while(a <= 10): #a = 1,2,3,4,5,6\n",
        "  print(a) #BS1\n",
        "  a = a+1 #BS2\n",
        "else:\n",
        "  print(\"while statement is ended\") #BS1 for else"
      ],
      "execution_count": 125,
      "outputs": [
        {
          "output_type": "stream",
          "name": "stdout",
          "text": [
            "1\n",
            "2\n",
            "3\n",
            "4\n",
            "5\n",
            "6\n",
            "7\n",
            "8\n",
            "9\n",
            "10\n",
            "while statement is ended\n"
          ]
        }
      ]
    },
    {
      "cell_type": "code",
      "metadata": {
        "id": "YSYTFHGkCDPL",
        "colab": {
          "base_uri": "https://localhost:8080/"
        },
        "outputId": "5874792c-9102-40dd-dc46-360403993889"
      },
      "source": [
        "for i in [1,\"hello madBlocks\",3+4j]:\n",
        "  print(i)\n",
        "else:\n",
        "  print(\"for statement is ended\")"
      ],
      "execution_count": 126,
      "outputs": [
        {
          "output_type": "stream",
          "name": "stdout",
          "text": [
            "1\n",
            "hello madBlocks\n",
            "(3+4j)\n",
            "for statement is ended\n"
          ]
        }
      ]
    },
    {
      "cell_type": "code",
      "metadata": {
        "id": "kUAp8hGPCvD_"
      },
      "source": [
        "a = 1\n",
        "iv = 3.2\n",
        "for i in range(1,20): #i = 1,2,3,4,5\n",
        "  print(a)\n",
        "  a = a+iv #2,2.5,3"
      ],
      "execution_count": null,
      "outputs": []
    },
    {
      "cell_type": "code",
      "metadata": {
        "id": "H5AMIRH7Ejvs"
      },
      "source": [
        "#a = 1,2,3,4,5\n",
        "a = 1\n",
        "while(a <= 10): #a = 1,2,3\n",
        "  print(a) #BS1\n",
        "\n",
        "  if(a == 7): #BS2 for while\n",
        "    break #BS1 for if\n",
        "\n",
        "  a = a+1 #BS3 for while"
      ],
      "execution_count": null,
      "outputs": []
    },
    {
      "cell_type": "code",
      "metadata": {
        "id": "g1XXLhHZGm0o"
      },
      "source": [
        "a = 0\n",
        "while(a < 5): #a = 0,0,0\n",
        "  print(a) #0,0\n",
        "  #continue\n",
        "  a = a+1"
      ],
      "execution_count": null,
      "outputs": []
    },
    {
      "cell_type": "code",
      "metadata": {
        "id": "6Xk_Wg_yHjYa"
      },
      "source": [
        "a = 1\n",
        "while(a <= 5): #a = 1,2,3,4,5\n",
        "  if(a == 3):\n",
        "    pass\n",
        "  else:\n",
        "    print(a) #1,2,4,5\n",
        "  a = a+1"
      ],
      "execution_count": null,
      "outputs": []
    },
    {
      "cell_type": "code",
      "metadata": {
        "id": "5qXXIJX0xPl7"
      },
      "source": [
        "#program-1\n",
        "\n",
        "#str - %s\n",
        "#int - %d\n",
        "#float - %f\n",
        "\n",
        "#printf(\"%s\",t) - c program\n",
        "\n",
        "t = 23.524\n",
        "p = \"is the given Number\"\n",
        "print(\"%f %s\" %(t,p)) "
      ],
      "execution_count": null,
      "outputs": []
    },
    {
      "cell_type": "code",
      "metadata": {
        "id": "JsWycUlMz-B1"
      },
      "source": [
        "#program - 2\n",
        "\n",
        "a = 5\n",
        "b = 21\n",
        "\n",
        "print(\"product of given numbers %d and %d is %d\" %(a,b,a*b))"
      ],
      "execution_count": null,
      "outputs": []
    },
    {
      "cell_type": "code",
      "metadata": {
        "id": "rsWb2tV21TV9"
      },
      "source": [
        "#program - 3\n",
        "\n",
        "# \"*\" - mult - a*b - product\n",
        "# \"**\" - power - a**b - a^b - 16^0.5\n",
        "\n",
        "a = int(input(\"enter a number : \"))\n",
        "print(\"Squareroot of given number %d is %f\" %(a,a**0.5))"
      ],
      "execution_count": null,
      "outputs": []
    },
    {
      "cell_type": "code",
      "metadata": {
        "id": "K-rghCbi3dIK"
      },
      "source": [
        "#program - 4\n",
        "\n",
        "#area = 0.5*base*height\n",
        "\n",
        "b = int(input(\"enter base value : \"))\n",
        "h = int(input(\"enter height value : \"))\n",
        "print(\"Area of the triangle with given b = %d and h = %d is %f\" %(b,h,0.5*b*h))"
      ],
      "execution_count": null,
      "outputs": []
    },
    {
      "cell_type": "code",
      "metadata": {
        "id": "qDOTwg1g42th"
      },
      "source": [
        "#program - 5\n",
        "\n",
        "x = 9\n",
        "y = 20\n",
        "print(\"before swapping values of x = %d and y = %d\" %(x,y))\n",
        "\n",
        "x = x+y # x = 20+9 = 29 and y = 20\n",
        "y = x-y # y = 29-20 = 9 and x = 29\n",
        "x = x-y # x = 29-9 = 20 and y = 9\n",
        "\n",
        "print(\"after swapping values of x = %d and y = %d\" %(x,y))"
      ],
      "execution_count": null,
      "outputs": []
    },
    {
      "cell_type": "code",
      "metadata": {
        "id": "j_k5RIVH7Xn2"
      },
      "source": [
        "x = 9\n",
        "y = 20\n",
        "\n",
        "print(\"before swapping x = %d and y = %d\" %(x,y))\n",
        "\n",
        "x,y = y,x\n",
        "\n",
        "print(\"after swapping x = %d and y = %d\" %(x,y))"
      ],
      "execution_count": null,
      "outputs": []
    },
    {
      "cell_type": "code",
      "metadata": {
        "id": "tYhY8ufK8hvg"
      },
      "source": [
        "#program - 6 \n",
        "\n",
        "import random\n",
        "print(random.randint(1,6))"
      ],
      "execution_count": null,
      "outputs": []
    },
    {
      "cell_type": "code",
      "metadata": {
        "id": "mQNNB4bT-Hgj"
      },
      "source": [
        "#program - 7\n",
        "\n",
        "x = 512\n",
        "\n",
        "if(x%2 == 0):\n",
        "  print(\"Given %d is an even number\" %x)\n",
        "else:\n",
        "  print(\"Given %d is an odd number\" %x)"
      ],
      "execution_count": null,
      "outputs": []
    },
    {
      "cell_type": "code",
      "metadata": {
        "id": "lGEfkfpV_AmV"
      },
      "source": [
        "#program - 8\n",
        "\n",
        "#leap year - Certurian (100,200,1900,2000) \n",
        "\n",
        "y = 2012\n",
        "\n",
        "if(y%100 == 0): # certurian\n",
        "  if(y%400 == 0):\n",
        "    print(\"Given year %d is a leap year\" %y)\n",
        "  else:\n",
        "    print(\"Given year %d is not a leap year\" %y)\n",
        "else: # non - certurian\n",
        "  if(y%4 == 0): \n",
        "    print(\"Given year %d is a leap year\" %y)\n",
        "  else:\n",
        "    print(\"Given year %d is not a leap year\" %y)"
      ],
      "execution_count": null,
      "outputs": []
    },
    {
      "cell_type": "code",
      "metadata": {
        "id": "vGJuSa8UEBep"
      },
      "source": [
        "#program - 9\n",
        "\n",
        "a = 72\n",
        "b = 39\n",
        "c = 56\n",
        "\n",
        "if(a > b and a > c):\n",
        "  print(\"%d is Largest number among %d,%d,%d\" %(a,a,b,c))\n",
        "elif(b > a and b > c):\n",
        "  print(\"%d is Largest number among %d,%d,%d\" %(b,a,b,c))\n",
        "else:\n",
        "  print(\"%d is Largest number among %d,%d,%d\" %(c,a,b,c))"
      ],
      "execution_count": null,
      "outputs": []
    },
    {
      "cell_type": "code",
      "metadata": {
        "id": "0OzE0_RlFgSB"
      },
      "source": [
        "#program - 10\n",
        "\n",
        "x = 2\n",
        "fact = 2\n",
        "for i in range(2,x): # i = 2,3,4,5\n",
        "  if(x%i == 0): # 13%5 = 3 \n",
        "    fact = fact + 1\n",
        "if(fact == 2):\n",
        "  print(\"Given Number %d is a prime number\" %x)\n",
        "else:\n",
        "  print(\"Given Number %d is a not prime number\" %x)"
      ],
      "execution_count": null,
      "outputs": []
    },
    {
      "cell_type": "code",
      "metadata": {
        "id": "1E759z3G-czL"
      },
      "source": [
        "# Files Ouput (writing)\n",
        "\n",
        "f=open('madhu.txt','w')\n",
        "# w- permission attribute\n",
        "# w - write\n",
        "# file not exist, file will be created\n",
        "# file exist - file will be opend\n",
        "f.write('Madhu is a Good Boy') # Write\n",
        "f.close() # Closes the file\n"
      ],
      "execution_count": null,
      "outputs": []
    },
    {
      "cell_type": "code",
      "metadata": {
        "id": "4vRDcxkm_dbO"
      },
      "source": [
        "f=open('mta.txt','r')\n",
        "# r - permission attribute\n",
        "# r- read"
      ],
      "execution_count": null,
      "outputs": []
    },
    {
      "cell_type": "code",
      "metadata": {
        "id": "nUYSAKvQATDP"
      },
      "source": [
        "f=open('madhu.txt','w')\n",
        "f.write('MTA Bootcamp is going good')\n",
        "f.close()"
      ],
      "execution_count": null,
      "outputs": []
    },
    {
      "cell_type": "code",
      "metadata": {
        "id": "BynxBPprAom6"
      },
      "source": [
        "f=open('madhu.txt','a')\n",
        "f.write('Madhu is a Good Boy')\n",
        "f.close()\n",
        "\n",
        "# a - append"
      ],
      "execution_count": null,
      "outputs": []
    },
    {
      "cell_type": "code",
      "metadata": {
        "id": "MPp4tSq7BAgS"
      },
      "source": [
        "f=open('madhu.txt','a')\n",
        "f.write(25)\n",
        "f.close()"
      ],
      "execution_count": null,
      "outputs": []
    },
    {
      "cell_type": "code",
      "metadata": {
        "id": "wG0EX0c0BLZ4"
      },
      "source": [
        "f=open('madhu.txt','a')\n",
        "f.write(str(25))\n",
        "f.close()"
      ],
      "execution_count": null,
      "outputs": []
    },
    {
      "cell_type": "code",
      "metadata": {
        "id": "oCAtFGVyBW_f"
      },
      "source": [
        "a=['hello\\n','hi\\n','how are you doing\\n']\n",
        "type(a[0]) # line strings"
      ],
      "execution_count": null,
      "outputs": []
    },
    {
      "cell_type": "code",
      "metadata": {
        "id": "choj2RffB1ws"
      },
      "source": [
        "f=open('madhu.txt','w')\n",
        "f.writelines(a) # multiple lines\n",
        "f.close()"
      ],
      "execution_count": null,
      "outputs": []
    },
    {
      "cell_type": "code",
      "metadata": {
        "id": "WKE8r-LQCn2o"
      },
      "source": [
        "# Files Input \n",
        "f=open('madhu.txt','r') # read\n",
        "t=f.read() # entire data from file\n",
        "print(t)\n",
        "f.close()"
      ],
      "execution_count": null,
      "outputs": []
    },
    {
      "cell_type": "code",
      "metadata": {
        "id": "n_oSnsHrC632"
      },
      "source": [
        "f=open('madhu.txt','r')\n",
        "t=f.read(2) # read only first 2 characters from file\n",
        "print(t)\n",
        "f.close()"
      ],
      "execution_count": null,
      "outputs": []
    },
    {
      "cell_type": "code",
      "metadata": {
        "id": "nDHMclMYDW3A"
      },
      "source": [
        "f=open('madhu.txt','r')\n",
        "t=f.readlines() # will return the lines in a list datatype\n",
        "print(t)\n",
        "f.close()"
      ],
      "execution_count": null,
      "outputs": []
    },
    {
      "cell_type": "code",
      "metadata": {
        "id": "5dxKUcmwDv_3"
      },
      "source": [
        "a=[] # empty list\n",
        "for i in t: # ['hello\\n','hi\\n','how are you doing\\n']\n",
        "  a.append(i[:-1])\n",
        "print(a)"
      ],
      "execution_count": null,
      "outputs": []
    },
    {
      "cell_type": "code",
      "metadata": {
        "id": "U9NYcRSGEzaU"
      },
      "source": [
        "a=10 # static assignment\n",
        "a=input('enter a value') # dynamic assignment"
      ],
      "execution_count": null,
      "outputs": []
    },
    {
      "cell_type": "code",
      "metadata": {
        "id": "3H4sLPvqFAVP"
      },
      "source": [
        "a=input('enter a value') # 23 - integer value\n",
        "print (a,type(a))"
      ],
      "execution_count": null,
      "outputs": []
    },
    {
      "cell_type": "code",
      "metadata": {
        "id": "AXlQigAUFZJY"
      },
      "source": [
        "a=int(input('enter a value'))\n",
        "print(a,type(a))"
      ],
      "execution_count": null,
      "outputs": []
    },
    {
      "cell_type": "code",
      "metadata": {
        "id": "IqcomycNFmLK"
      },
      "source": [
        "a,b=input('enter values').split(',')\n",
        "a=int(a)\n",
        "b=int(b)\n",
        "# a, b are variables\n",
        "# input() -str\n",
        "# split() - breaks the string\n",
        "# ',' - the string will be splitted into parts based in this char\n",
        "print(a,type(a))\n",
        "print(b,type(b))"
      ],
      "execution_count": null,
      "outputs": []
    },
    {
      "cell_type": "code",
      "metadata": {
        "id": "X7JtO4COGTLl"
      },
      "source": [
        "a,b=input('enter values').split(',')\n",
        "a=int(a)\n",
        "b=float(b)\n",
        "# a, b are variables\n",
        "# input() -str\n",
        "# split() - breaks the string\n",
        "# ',' - the string will be splitted into parts based in this char\n",
        "print(a,type(a))\n",
        "print(b,type(b))"
      ],
      "execution_count": null,
      "outputs": []
    },
    {
      "cell_type": "code",
      "metadata": {
        "id": "f01umzw7GvIr"
      },
      "source": [
        "# printf(\"%d %d\",a,b) - syntax in c\n",
        "\n",
        "# Old formatting Style\n",
        "a=23\n",
        "b=25\n",
        "print('The values of a,b are %d,%d' % (a,b))"
      ],
      "execution_count": null,
      "outputs": []
    },
    {
      "cell_type": "code",
      "metadata": {
        "id": "nlHPoYXhHTsJ"
      },
      "source": [
        "a=23\n",
        "print('The value of a is %d' % a)"
      ],
      "execution_count": null,
      "outputs": []
    },
    {
      "cell_type": "code",
      "metadata": {
        "id": "5xlkKrhMHmTM"
      },
      "source": [
        "# New formatting Style\n",
        "\n",
        "a=23\n",
        "print('The value of a is {0}'.format(a))"
      ],
      "execution_count": null,
      "outputs": []
    },
    {
      "cell_type": "code",
      "metadata": {
        "id": "-xDMr5pSH17x"
      },
      "source": [
        "a=23\n",
        "b=25\n",
        "c='hi'\n",
        "print('The value of a is {0}, The value of b is {1}, The value of c is {2}'.format(a,b,c))"
      ],
      "execution_count": null,
      "outputs": []
    },
    {
      "cell_type": "code",
      "metadata": {
        "id": "rD8TxHKVNAJR"
      },
      "source": [
        "# 1. Program to print prime numbers between intervals\n",
        "# 2 and 100\n",
        "\n",
        "n=2\n",
        "while n<100: # 2 to 100\n",
        "  is_prime=True \n",
        "  for i in range(2,n): # range(2,6) -> [2,3,4,5]\n",
        "    if (n%i==0): # 6%2 -> 0==0 (True)\n",
        "      is_prime=False\n",
        "      break\n",
        "  if (is_prime==True):\n",
        "    print(n,end=',') #2 3 5\n",
        "  n+=1 # 6"
      ],
      "execution_count": null,
      "outputs": []
    },
    {
      "cell_type": "code",
      "metadata": {
        "id": "cuYyOdmEPd23"
      },
      "source": [
        "# 2. factorial\n",
        "# 5! = 5*4*3*2*1 = 120\n",
        "# 0!= 1\n",
        "\n",
        "n=5\n",
        "m=n # m = 5\n",
        "f=1\n",
        "while(n>0): # 1>0 - True\n",
        "  f*=n # f=1*5 = 5*4*3*2*1\n",
        "  n-=1 # 1-1=0\n",
        "print('The factorial of {0} is {1}'.format(m,f))"
      ],
      "execution_count": null,
      "outputs": []
    },
    {
      "cell_type": "code",
      "metadata": {
        "id": "kGDxmm-NQTaI"
      },
      "source": [
        "# 3. Print 10 terms of fib series\n",
        "# 0 1 1 2 3 5 8 13 .....\n",
        "\n",
        "fib1=0\n",
        "fib2=1\n",
        "print(fib1,end='\\t')\n",
        "print(fib2,end='\\t')\n",
        "for i in range(8):\n",
        "  fib3=fib1+fib2\n",
        "  print(fib3,end='\\t')\n",
        "  fib1=fib2\n",
        "  fib2=fib3"
      ],
      "execution_count": null,
      "outputs": []
    },
    {
      "cell_type": "code",
      "metadata": {
        "id": "km3-ce0wRB0X"
      },
      "source": [
        "# 4. Armstrong Number\n",
        "# 123 -> no of digits (3) - > 1^3+2^3+3^3\n",
        "# 12 -> no of digits (2) - 1^2+2^2\n",
        "# 1234 -> no of digits (4) - 1^4+2^4+3^4+4^4;\n",
        "\n",
        "n=int(input('enter a value')) # 123\n",
        "m=n # 123\n",
        "l=len(str(m)) # '123' -> 3 \n",
        "sum=0\n",
        "while m>0: # 1>0\n",
        "  dummy=m%10 # 1%10 -> 1\n",
        "  sum+=dummy**l # 3**3 + 2**3 + 1**3\n",
        "  m=m//10 # 1//10 -> 1/10 - 0.1 - 0\n",
        "\n",
        "if (sum==n):\n",
        "  print('{0} is Armstrong Number'.format(n))\n",
        "else:\n",
        "  print('{0} is not an Armstrong Number'.format(n))\n"
      ],
      "execution_count": null,
      "outputs": []
    },
    {
      "cell_type": "code",
      "metadata": {
        "id": "2gLGmgTdS1RI"
      },
      "source": [
        "# Program 5 - 100 to 1000\n",
        "n=100\n",
        "while n<1000: # 100 to 1000\n",
        "  m=n\n",
        "  l=len(str(n))\n",
        "  sum=0\n",
        "  while m>0: # calculate the sum\n",
        "    dummy=m%10 \n",
        "    sum+=dummy**l\n",
        "    m=m//10\n",
        "  if(sum==n):\n",
        "    print(n,end='\\t')\n",
        "  n+=1"
      ],
      "execution_count": null,
      "outputs": []
    },
    {
      "cell_type": "code",
      "metadata": {
        "id": "iDIuGMTtUCp_"
      },
      "source": [
        "a={1:'madblocks',2:'madhu'}\n",
        "b=input('enter id:') # b is str 1 and '1'\n",
        "print(a[b])"
      ],
      "execution_count": null,
      "outputs": []
    },
    {
      "cell_type": "code",
      "metadata": {
        "id": "KEjw0d4kQKo8"
      },
      "source": [
        "# Function\n",
        "a=1\n",
        "if a==1: # conditional branch\n",
        "  print ('Hello Madhu')\n",
        "\n",
        "def madhu(): # unconditional branch\n",
        "  print ('Hello Madhu')"
      ],
      "execution_count": null,
      "outputs": []
    },
    {
      "cell_type": "code",
      "metadata": {
        "id": "kB7bIfSmQ31Z"
      },
      "source": [
        "# Types of Functions\n",
        "# 1. Called Function - Function Definition\n",
        "# 2. Calling Function - Function Call\n",
        "\n",
        "# Define Called Function\n",
        "def madhu(): # madhu - function name\n",
        "  print('Hello Welcome') # function branch"
      ],
      "execution_count": null,
      "outputs": []
    },
    {
      "cell_type": "code",
      "metadata": {
        "id": "piheh74eRhsT"
      },
      "source": [
        "# Make a Function call\n",
        "madhu() # Invoking the Function, Calling the Function"
      ],
      "execution_count": null,
      "outputs": []
    },
    {
      "cell_type": "code",
      "metadata": {
        "id": "HjqhwcZ-Rw3S"
      },
      "source": [
        "madblocks() # Function Call - first\n",
        "\n",
        "def madblocks(): # Function is defined - second\n",
        "  print('Hello')"
      ],
      "execution_count": null,
      "outputs": []
    },
    {
      "cell_type": "code",
      "metadata": {
        "id": "c3Hud13kSSpU"
      },
      "source": [
        "# Define a Function\n",
        "def madblocks():\n",
        "  print ('Madhu')\n",
        "  \n",
        "# Invoke/Call the Function\n",
        "madblocks()"
      ],
      "execution_count": null,
      "outputs": []
    },
    {
      "cell_type": "code",
      "metadata": {
        "id": "Rh8azcgtSfss"
      },
      "source": [
        "# Input of the Function - argument\n",
        "# Output of the Function - return\n",
        "\n",
        "# Function with no arg, no return\n",
        "# Function with arg, no return\n",
        "# Function with no arg, return\n",
        "# Function with arg, return"
      ],
      "execution_count": null,
      "outputs": []
    },
    {
      "cell_type": "code",
      "metadata": {
        "id": "5gMfbPDrTB1p"
      },
      "source": [
        "# Function with no arg, no return\n",
        "# Program to findout the given number is even or not\n",
        "\n",
        "def madhu():\n",
        "  n=int(input('enter  a number'))\n",
        "  if(n%2==0):\n",
        "    print('even')\n",
        "  else:\n",
        "    print('not an even')\n",
        "\n",
        "madhu()\n",
        "# 1. Input is read inside the function\n",
        "# 2. Output is also printed inside the function"
      ],
      "execution_count": null,
      "outputs": []
    },
    {
      "cell_type": "code",
      "metadata": {
        "id": "egrO5wGwUCV1"
      },
      "source": [
        "# Function with arg, no return\n",
        "def madhu(t): # Formal Arguments - t - 23\n",
        "  if(t%2==0):\n",
        "    print ('even')\n",
        "  else:\n",
        "    print ('not an even')\n",
        "\n",
        "n=int(input('enter a number')) # 23\n",
        "madhu(n) # Actual Arguments - n - 23\n",
        "\n",
        "# 1. Input is taken outside the function\n",
        "# 2. Output is printed inside the function"
      ],
      "execution_count": null,
      "outputs": []
    },
    {
      "cell_type": "code",
      "metadata": {
        "id": "j6YTc_5PUywK"
      },
      "source": [
        "# Function without arg, with return variable\n",
        "\n",
        "def madhu():\n",
        "  n=int(input('Enter a number'))\n",
        "  if n%2==0: # even\n",
        "    return (True) # 1\n",
        "  else: # odd\n",
        "    return (False) # 0\n",
        "\n",
        "k=madhu() # function will be called\n",
        "# The value of k will be altered based on n\n",
        "if(k==True):\n",
        "  print('even')\n",
        "else:\n",
        "  print('not even')\n",
        "\n",
        "# 1. No arg, input is read inside the function\n",
        "# 2. with ret, ouput is printed outside the function"
      ],
      "execution_count": null,
      "outputs": []
    },
    {
      "cell_type": "code",
      "metadata": {
        "id": "WsNyXye2VxuJ"
      },
      "source": [
        "# with arg, with ret\n",
        "def madhu(t):\n",
        "  if(t%2==0):\n",
        "    return True\n",
        "  else:\n",
        "    return False\n",
        "\n",
        "n=int(input('enter a number: '))\n",
        "k=madhu(n)\n",
        "if k==True:\n",
        "  print ('even')\n",
        "else:\n",
        "  print ('odd')\n",
        "\n",
        "# 1. Input is read outside\n",
        "# 2. Output is also printed outside"
      ],
      "execution_count": null,
      "outputs": []
    },
    {
      "cell_type": "code",
      "metadata": {
        "id": "9dtXU1iwWrct"
      },
      "source": [
        "# Recursive Function\n",
        "def madhu(t): # madhu function t - -1\n",
        "  if(t<0): # -1<0 - True\n",
        "    return # exiting from the function\n",
        "  print(t) # 5 4 3 2 1 0\n",
        "  t-=1 # -1\n",
        "  madhu(t) # madhu(-1)\n",
        "\n",
        "madhu(5) "
      ],
      "execution_count": null,
      "outputs": []
    },
    {
      "cell_type": "code",
      "metadata": {
        "id": "WRs-FirgYBe5"
      },
      "source": [
        "# Types of Arguments\n",
        "# 1. Positional Arguments\n",
        "# 2. Keyword Arguments\n",
        "\n",
        "def madhu(t1,t2,t3='hi'): # 3 Arguments\n",
        "  print(t1,t2,t3)\n",
        "\n",
        "madhu('hello','MTA') # 2 Arguments\n",
        "madhu('hello','MTA','Python') # 3 Arguments\n",
        "madhu('hello','MTA',t3='Python')\n",
        "\n",
        "# t1,t2 - Positional Arugment\n",
        "# t3 - Keyword Arugment\n",
        "\n",
        "# t1 <- hello, t2 <- MTA\n"
      ],
      "execution_count": null,
      "outputs": []
    },
    {
      "cell_type": "code",
      "metadata": {
        "id": "73ABMXmOZt2W"
      },
      "source": [
        "def madhu():\n",
        "  \"Hi Hello How are you doing \\\n",
        "  Hope you are doing great\"\n",
        "\n",
        "print(madhu.__doc__) # functionObject.__doc__"
      ],
      "execution_count": null,
      "outputs": []
    },
    {
      "cell_type": "code",
      "metadata": {
        "id": "VjtjfqD3aLVU"
      },
      "source": [
        "def madhu(*args):\n",
        "  print(args)\n",
        "\n",
        "madhu('hi','hello') # 2 Arg\n",
        "madhu(1,2,3,4,5) # 5 Arg"
      ],
      "execution_count": null,
      "outputs": []
    },
    {
      "cell_type": "code",
      "metadata": {
        "id": "xOPbTjQTbMKS"
      },
      "source": [
        "#1 Program to find sum of N natural Number\n",
        "\n",
        "def madhu(n): # n is 5\n",
        "  sum=n # sum - 5\n",
        "  for i in range(n): # range(5) - [0,1,2,3,4]\n",
        "    sum+=i # sum=5+0+1+2+3+4\n",
        "  return sum # 15\n",
        "\n",
        "n=int(input('Enter a number: ')) # 5\n",
        "k=madhu(n) # k=madhu(5) # k is 15\n",
        "print('The sum is {0}'.format(k)) "
      ],
      "execution_count": null,
      "outputs": []
    },
    {
      "cell_type": "code",
      "metadata": {
        "id": "awSPtCgKcPL0"
      },
      "source": [
        "# 2 - Decimal to binary\n",
        "def madhu(n):\n",
        "  k=bin(n)\n",
        "  return k\n",
        "\n",
        "n=int(input('Enter a number'))\n",
        "k=madhu(n)\n",
        "print('The number is {0}'.format(k))"
      ],
      "execution_count": null,
      "outputs": []
    },
    {
      "cell_type": "code",
      "metadata": {
        "id": "CAFsXrItcpbc"
      },
      "source": [
        "# 3 Factors of a given number\n",
        "\n",
        "def madhu(i,n): # i=4, n=5\n",
        "  if n%i==0: # 5%4\n",
        "    return True\n",
        "  else:\n",
        "    return False\n",
        "\n",
        "n=int(input('Enter a number: ')) # 5\n",
        "for i in range(1,n): # range(1,5) -> [1,2,3,4]\n",
        "  if(madhu(i,n)==True): # madhu(4,5)\n",
        "    print(i,end=',') # 1,\n",
        "print(n) # 5"
      ],
      "execution_count": null,
      "outputs": []
    },
    {
      "cell_type": "code",
      "metadata": {
        "id": "CwwBkgUHd0KJ"
      },
      "source": [
        "# 4 Check given string is palindrome or not\n",
        "\n",
        "a=input('Enter a value') # madam\n",
        "if(a[::-1]==a):\n",
        "  print ('Palindrome String')\n",
        "else:\n",
        "  print('Not a palindrome String')\n"
      ],
      "execution_count": null,
      "outputs": []
    },
    {
      "cell_type": "code",
      "metadata": {
        "id": "1stIRCjIeTLw"
      },
      "source": [
        "t=input('Enter a string') # MS WORD\n",
        "if(t.startswith('MS')):\n",
        "  print('The string {0} is started with MS'.format(t))\n",
        "else:\n",
        "  print('The string {0} is not started with MS'.format(t))"
      ],
      "execution_count": null,
      "outputs": []
    },
    {
      "cell_type": "code",
      "metadata": {
        "id": "y0lR2ipJe5dn"
      },
      "source": [
        "# Program to find out the number of palindrome elements\n",
        "\n",
        "def madhu(t): # int - 33\n",
        "  m=int(str(t)[::-1]) # '33' [::-1] -> '33' -> 33\n",
        "  if(m==t): # 33==33\n",
        "    return True\n",
        "  else:\n",
        "    return False\n",
        "\n",
        "k=[23,32,33,55,37] # 1\n",
        "n=0\n",
        "for i in k:\n",
        "  if(madhu(i)==True):\n",
        "    n+=1 \n",
        "print('The number of palindrome elements are {0}'.format(n))"
      ],
      "execution_count": null,
      "outputs": []
    },
    {
      "cell_type": "code",
      "metadata": {
        "id": "19ypaPsmf_08"
      },
      "source": [
        "# Program to check prime elements in the list\n",
        "# prime - no of factors - 2\n",
        "\n",
        "def madhu(n): # 11\n",
        "  fact=2\n",
        "  for i in range(2,n): # [2,11] -> [2,3...10]\n",
        "    if n%i==0: # Non-Prime Numbers remainder will get Zero\n",
        "      return False\n",
        "  return True\n",
        "\n",
        "k=[25,32,11,5,77]\n",
        "n=0\n",
        "for i in k:\n",
        "  if(madhu(i)==True):\n",
        "    n+=1\n",
        "print('The no of prime elements are {0}'.format(n))"
      ],
      "execution_count": null,
      "outputs": []
    },
    {
      "cell_type": "code",
      "metadata": {
        "id": "M6XPFLM-hmVZ"
      },
      "source": [
        "# Program to find out no of Armstrong elements\n",
        "def madhu(n): # 370\n",
        "  l=len(str(n)) # 3\n",
        "  m=n # 370\n",
        "  sum=0\n",
        "  while m>0: # 3>0 - True\n",
        "    dummy=m%10 # 3%10 -> 3\n",
        "    sum+=dummy**l # 0^3+7^3+3^3 = 343+27 = 370\n",
        "    m=m//10 # 370//10 -> 37//10 -> 3//10\n",
        "  if(sum==n): # 370==370\n",
        "    return True\n",
        "  else:\n",
        "    return False\n",
        "n=0\n",
        "k=[23,32,157,370,371]\n",
        "for i in k:\n",
        "  if(madhu(i)==True):\n",
        "    n+=1\n",
        "print('The no of Armstrong elements are {0}'.format(n))"
      ],
      "execution_count": null,
      "outputs": []
    },
    {
      "cell_type": "code",
      "metadata": {
        "id": "yt_RH6zki3qq"
      },
      "source": [
        "# The sum of all the elements in the list\n",
        "k=[23,32,35,56]\n",
        "sum=0\n",
        "for i in k:\n",
        "  sum+=i\n",
        "\n",
        "f=open('res.txt','w')\n",
        "f.write(str(sum))\n",
        "f.close()\n",
        "print('The sum of all the elements are {0}'.format(sum))\n"
      ],
      "execution_count": null,
      "outputs": []
    },
    {
      "cell_type": "code",
      "metadata": {
        "id": "51jguYZve1uZ"
      },
      "source": [
        "a=5 # No Syntax Error\n",
        "'X'=a # Value - Syntax Error"
      ],
      "execution_count": null,
      "outputs": []
    },
    {
      "cell_type": "code",
      "metadata": {
        "id": "9QiTumb-fJXc"
      },
      "source": [
        "a=(1,2,3)\n",
        "a[0]=4"
      ],
      "execution_count": null,
      "outputs": []
    },
    {
      "cell_type": "code",
      "metadata": {
        "id": "9OLge29zfUfC"
      },
      "source": [
        "a='madblocks'\n",
        "a[0]='s'"
      ],
      "execution_count": null,
      "outputs": []
    },
    {
      "cell_type": "code",
      "metadata": {
        "id": "VluCtXGeffs9"
      },
      "source": [
        "a=3\n",
        "if(a=3): # == - comparision\n",
        "  print('hello')"
      ],
      "execution_count": null,
      "outputs": []
    },
    {
      "cell_type": "code",
      "metadata": {
        "id": "KymH2bBEf0sY"
      },
      "source": [
        "a=[1,2,3,4]\n",
        "fo i in a: # for\n",
        "  print(i)"
      ],
      "execution_count": null,
      "outputs": []
    },
    {
      "cell_type": "code",
      "metadata": {
        "id": "RDsNPdxLgV7b"
      },
      "source": [
        "a='hello'\n",
        "b='b'\n",
        "for not b in a: # Misusing the keyword for b not in a\n",
        "  print ('Member')"
      ],
      "execution_count": null,
      "outputs": []
    },
    {
      "cell_type": "code",
      "metadata": {
        "id": "Qrz8I_ENhCxI"
      },
      "source": [
        "a=3\n",
        "if a==3:\n",
        "  break # misusing the keyword\n",
        "print ('Hello')"
      ],
      "execution_count": null,
      "outputs": []
    },
    {
      "cell_type": "code",
      "metadata": {
        "id": "KSD2jNWrhhq1"
      },
      "source": [
        "a=2\n",
        "print('The value of a is '+str(a) # missing parathesis"
      ],
      "execution_count": null,
      "outputs": []
    },
    {
      "cell_type": "code",
      "metadata": {
        "id": "DQZC8Ef1h8Qt"
      },
      "source": [
        "a={1:'hello' 2:'madhu'} # missed comma\n",
        "print (a)"
      ],
      "execution_count": null,
      "outputs": []
    },
    {
      "cell_type": "code",
      "metadata": {
        "id": "whr-VaHPiRdZ"
      },
      "source": [
        "a={\n",
        "    1:'hello' # one comma missed\n",
        "    'a': {1: 23,3:35} # one bracket missed\n",
        "print (a)"
      ],
      "execution_count": null,
      "outputs": []
    },
    {
      "cell_type": "code",
      "metadata": {
        "id": "KICaHsMZivXr"
      },
      "source": [
        "madhu() # function call\n",
        "\n",
        "def madhu(): # function def\n",
        "  print ('Hello')"
      ],
      "execution_count": null,
      "outputs": []
    },
    {
      "cell_type": "code",
      "metadata": {
        "id": "61t3Cr-Yi_jY"
      },
      "source": [
        "a=2 # 1000\n",
        "def madhu():\n",
        "  global a\n",
        "  a+=3 # a=a+3=2+3 # 1000\n",
        "  print (a)\n",
        "madhu()"
      ],
      "execution_count": null,
      "outputs": []
    },
    {
      "cell_type": "code",
      "metadata": {
        "id": "nwqON6Hsj_R2"
      },
      "source": [
        "a=int(input('enter a number: '))\n",
        "print(a)"
      ],
      "execution_count": null,
      "outputs": []
    },
    {
      "cell_type": "code",
      "metadata": {
        "id": "AVcMPOi9km1I"
      },
      "source": [
        "try:\n",
        "  a=int(input('enter a value'))\n",
        "  print (a)\n",
        "except: # when there is any error in try block\n",
        "  print ('Please enter integer values only')"
      ],
      "execution_count": null,
      "outputs": []
    },
    {
      "cell_type": "code",
      "metadata": {
        "id": "oEb25A2Olc1N"
      },
      "source": [
        "try:\n",
        "  a=33\n",
        "  b=int(input('enter a value'))\n",
        "  print(a/b) # 33/b -> 33/0\n",
        "except:\n",
        "  print('Enter non-zero values only')"
      ],
      "execution_count": null,
      "outputs": []
    },
    {
      "cell_type": "code",
      "metadata": {
        "id": "oypL5lpWmAz-"
      },
      "source": [
        "# Multiple Errors\n",
        "try:\n",
        "  a=int(input('enter a value'))\n",
        "  print(33/a)\n",
        "except ValueError:\n",
        "  print('Enter integer values only')\n",
        "except ZeroDivisionError:\n",
        "  print('Enter non-zero values only')"
      ],
      "execution_count": null,
      "outputs": []
    },
    {
      "cell_type": "code",
      "metadata": {
        "id": "53cOS_Elmw3_"
      },
      "source": [
        "try:\n",
        "  a=int(input('Enter a value'))  # 300\n",
        "  a+=3 # 303\n",
        "except:\n",
        "  print('enter integer values only')\n",
        "finally:\n",
        "  a=10\n",
        "  print(a)\n",
        "\n",
        "# For every try clause there can be multiple except caluses\n",
        "# For every try caluse there will be only one finally caluse"
      ],
      "execution_count": null,
      "outputs": []
    },
    {
      "cell_type": "code",
      "metadata": {
        "id": "ixe3bUdWn6HT"
      },
      "source": [
        "try:\n",
        "  a=int(input('enter a value'))\n",
        "  if a<=0:\n",
        "    raise ValueError('Enter Positive Numbers only')\n",
        "except ValueError as e:\n",
        "  print (e)\n"
      ],
      "execution_count": null,
      "outputs": []
    },
    {
      "cell_type": "code",
      "metadata": {
        "id": "gZpMwkHCpKrH"
      },
      "source": [
        "# Program to read a list through CLA\n",
        "# python demo.py 23 hello 2+3j\n",
        "import sys\n",
        "a=[]\n",
        "l=len(sys.argv) # l= 4\n",
        "for i in range(1,l): # range(1,4) - > [1,2,3]\n",
        "  a.append(sys.argv[i]) # sys.argv[1]\n",
        "\n",
        "print(a)\n"
      ],
      "execution_count": null,
      "outputs": []
    },
    {
      "cell_type": "code",
      "metadata": {
        "id": "aPKNjY4GqCkZ"
      },
      "source": [
        "a='madblocks'\n",
        "# ksdblockma\n",
        "\n",
        "b=a[:2] # a[0:2] - ma\n",
        "c=a[2:-2] # a[2:-2] -dbloc\n",
        "d=a[-2:] # ks\n",
        "\n",
        "print (d+c+b)\n"
      ],
      "execution_count": null,
      "outputs": []
    },
    {
      "cell_type": "code",
      "metadata": {
        "id": "GNz3Y6JMqyup"
      },
      "source": [
        "a='madblocks'\n",
        "# maks\n",
        "print(a[:2]+a[-2:])"
      ],
      "execution_count": null,
      "outputs": []
    },
    {
      "cell_type": "code",
      "metadata": {
        "id": "AT6-N3zfrD2Q"
      },
      "source": [
        "a='madhu'\n",
        "b='MADHU'\n",
        "print ('Press 1 to Upper')\n",
        "print ('Press 2 to Lower')\n",
        "choice=input('Enter Choice: ')\n",
        "if(choice=='1'):\n",
        "  print(a.upper())\n",
        "elif(choice=='2'):\n",
        "  print(b.lower())"
      ],
      "execution_count": null,
      "outputs": []
    },
    {
      "cell_type": "code",
      "metadata": {
        "id": "lNa26QdGrs-I"
      },
      "source": [
        "a='hi'\n",
        "print(a[::-1]*len(a)) # str"
      ],
      "execution_count": null,
      "outputs": []
    },
    {
      "cell_type": "code",
      "metadata": {
        "id": "VBwf1vVOsldF"
      },
      "source": [
        "a='madblocks technologies'\n",
        "print(a[::-3])\n",
        "\n",
        "# a[::-1]\n",
        "# seigolonhcet skcolbdam\n",
        "# start - 0 index\n",
        "# stop - until you reach last char\n",
        "# step - 3\n",
        "\n",
        "#seigolonhcet skcolbdam\n",
        "#sgoc cbm"
      ],
      "execution_count": null,
      "outputs": []
    },
    {
      "cell_type": "code",
      "metadata": {
        "id": "-9SRglxptw3h"
      },
      "source": [
        "# Modules\n",
        "\n",
        "import math # all the methods are to be accessed with . operator\n",
        "print(math.sin(0)) # sin - method \n",
        "print(math.cos(0)) # cos - method"
      ],
      "execution_count": null,
      "outputs": []
    },
    {
      "cell_type": "code",
      "metadata": {
        "id": "_04lMXeiui1V"
      },
      "source": [
        "from math import sin,cos # these functions can be accesed\n",
        "print(sin(0))\n",
        "print(cos(0))\n",
        "print(math.tan(0))\n"
      ],
      "execution_count": null,
      "outputs": []
    },
    {
      "cell_type": "code",
      "metadata": {
        "id": "ksG5xwi2vDp_"
      },
      "source": [
        "from math import * # any method from math module\n",
        "print(sin(0))\n",
        "print(cos(0))"
      ],
      "execution_count": null,
      "outputs": []
    },
    {
      "cell_type": "code",
      "metadata": {
        "id": "s3gMeE04wgqG"
      },
      "source": [
        "import math\n",
        "a=5.3 # (5, 6)\n",
        "print(math.ceil(a)) # round-off away from zero"
      ],
      "execution_count": null,
      "outputs": []
    },
    {
      "cell_type": "code",
      "metadata": {
        "id": "wWb0eTUjxEC2"
      },
      "source": [
        "import math\n",
        "a=-1.3 # (-1,-2)\n",
        "print(math.ceil(a)) # round-off towards zero"
      ],
      "execution_count": null,
      "outputs": []
    },
    {
      "cell_type": "code",
      "metadata": {
        "id": "cd2UlA3zxa8s"
      },
      "source": [
        "import math\n",
        "a=5.3 # (5,6)\n",
        "print(math.floor(a)) # round-off towards zero\n",
        "print(math.ceil(a)) # round-off away from zero"
      ],
      "execution_count": null,
      "outputs": []
    },
    {
      "cell_type": "code",
      "metadata": {
        "id": "KQ3P32r-x1ri"
      },
      "source": [
        "import math\n",
        "a=-5.3\n",
        "print(math.floor(a)) # round-off away from zero"
      ],
      "execution_count": null,
      "outputs": []
    },
    {
      "cell_type": "code",
      "metadata": {
        "id": "4V49p2YbyChG"
      },
      "source": [
        "import math\n",
        "a=-5.3\n",
        "print(math.fabs(a))"
      ],
      "execution_count": null,
      "outputs": []
    },
    {
      "cell_type": "code",
      "metadata": {
        "id": "O0ZMi9_tySVP"
      },
      "source": [
        "import math\n",
        "a=-10\n",
        "b=3\n",
        "print(a%b) # -10%3 -> (2-12)%3 -> 2%3 - 12%3 = 2-0 = 2\n",
        "print(math.fmod(a,b)) # -> a%b = 10%3 = 1"
      ],
      "execution_count": null,
      "outputs": []
    },
    {
      "cell_type": "code",
      "metadata": {
        "id": "2-TxNKpmzuof"
      },
      "source": [
        "import os\n",
        "\n",
        "os.mkdir('madhu')"
      ],
      "execution_count": null,
      "outputs": []
    },
    {
      "cell_type": "code",
      "metadata": {
        "id": "LhalfguO0aNh"
      },
      "source": [
        "import os\n",
        "os.getcwd()"
      ],
      "execution_count": null,
      "outputs": []
    },
    {
      "cell_type": "code",
      "metadata": {
        "id": "LMKKUMFo0mvB"
      },
      "source": [
        "import os\n",
        "os.chdir('madhu') # it is entering into madhu directory"
      ],
      "execution_count": null,
      "outputs": []
    },
    {
      "cell_type": "code",
      "metadata": {
        "id": "E7y8m4_60wWD"
      },
      "source": [
        "import os\n",
        "os.getcwd()"
      ],
      "execution_count": null,
      "outputs": []
    },
    {
      "cell_type": "code",
      "metadata": {
        "id": "nwrt-siQ09ua"
      },
      "source": [
        "f=open('madhu.txt','w')\n",
        "f.write('Hello')\n",
        "f.close()"
      ],
      "execution_count": null,
      "outputs": []
    },
    {
      "cell_type": "code",
      "metadata": {
        "id": "KmySCrxZ1JCy"
      },
      "source": [
        "import os\n",
        "os.listdir()"
      ],
      "execution_count": null,
      "outputs": []
    },
    {
      "cell_type": "code",
      "metadata": {
        "id": "9VVPGPss1og7"
      },
      "source": [
        "import os.path\n",
        "os.path.basename('/content/madhu')"
      ],
      "execution_count": null,
      "outputs": []
    },
    {
      "cell_type": "code",
      "metadata": {
        "id": "7L3hZsUj15j-"
      },
      "source": [
        "import os\n",
        "os.chdir('/content')"
      ],
      "execution_count": null,
      "outputs": []
    },
    {
      "cell_type": "code",
      "metadata": {
        "id": "3BkpEMah1_gK"
      },
      "source": [
        "import os\n",
        "os.getcwd()"
      ],
      "execution_count": null,
      "outputs": []
    },
    {
      "cell_type": "code",
      "metadata": {
        "id": "vXdEtchh2S78"
      },
      "source": [
        "import os.path\n",
        "os.path.basename(os.getcwd())"
      ],
      "execution_count": null,
      "outputs": []
    },
    {
      "cell_type": "code",
      "metadata": {
        "id": "yg4d8fOr2GsG"
      },
      "source": [
        "import os\n",
        "os.listdir() # list data type"
      ],
      "execution_count": null,
      "outputs": []
    },
    {
      "cell_type": "code",
      "metadata": {
        "id": "MkbtG7qw2e6G"
      },
      "source": [
        "import os.path\n",
        "os.path.dirname('/content/madhu')"
      ],
      "execution_count": null,
      "outputs": []
    },
    {
      "cell_type": "code",
      "metadata": {
        "id": "IrMe0adb3FUE"
      },
      "source": [
        "import os.path\n",
        "print(os.path.isdir('madhu'))"
      ],
      "execution_count": null,
      "outputs": []
    },
    {
      "cell_type": "code",
      "metadata": {
        "id": "AJiSgxZt3WeS"
      },
      "source": [
        "import os\n",
        "import os.path\n",
        "\n",
        "if(os.path.isdir('madhu')): # True\n",
        "  os.chdir('madhu') # entering into madhu folder\n",
        "  if(os.path.isfile('madhu.txt')): # True\n",
        "    f=open('madhu.txt','r')\n",
        "    print(f.read())\n",
        "    f.close()\n"
      ],
      "execution_count": null,
      "outputs": []
    },
    {
      "cell_type": "code",
      "metadata": {
        "id": "qrSCikpV4TjI"
      },
      "source": [
        "import random\n",
        "print(random.random()) # 0 to 1"
      ],
      "execution_count": null,
      "outputs": []
    },
    {
      "cell_type": "code",
      "metadata": {
        "id": "ROUeVnB34ovY"
      },
      "source": [
        "import random\n",
        "print(random.randint(1,10)) # 1,10 - inclusive"
      ],
      "execution_count": null,
      "outputs": []
    },
    {
      "cell_type": "code",
      "metadata": {
        "id": "71OyWbPt45KL"
      },
      "source": [
        "import random\n",
        "print(random.randrange(1,10,2)) # 10 is not inclusive"
      ],
      "execution_count": null,
      "outputs": []
    },
    {
      "cell_type": "code",
      "metadata": {
        "id": "t5cQGsWY5gDJ"
      },
      "source": [
        "import datetime\n",
        "\n",
        "print(datetime.datetime.now())"
      ],
      "execution_count": null,
      "outputs": []
    },
    {
      "cell_type": "code",
      "metadata": {
        "id": "fYrT6lD664QV"
      },
      "source": [
        "from datetime import datetime\n",
        "now=datetime.now()\n",
        "s=now.strftime('%m/%d/%Y, %H:%M:%S')\n",
        "print(s)"
      ],
      "execution_count": null,
      "outputs": []
    },
    {
      "cell_type": "code",
      "metadata": {
        "id": "3daBBwJt8LJg"
      },
      "source": [
        "# mADhu\n",
        "s='mADhu' # 2 - uppercase\n",
        "count=0\n",
        "m=s.upper() # 'MADHU'\n",
        "for i in range(len(s)): # mADhu -> range(5) - [0,1,2,3,4]\n",
        "  if(s[i]==m[i]): # u==U\n",
        "    count+=1 # 2\n",
        "if(count>=2):\n",
        "  print(s.upper())"
      ],
      "execution_count": null,
      "outputs": []
    },
    {
      "cell_type": "code",
      "metadata": {
        "id": "4piSrvEh9VvA"
      },
      "source": [
        "a='madhu'\n",
        "print(sorted(a))"
      ],
      "execution_count": null,
      "outputs": []
    },
    {
      "cell_type": "code",
      "metadata": {
        "id": "l0E8iLM99qmy"
      },
      "source": [
        "a='madhu'\n",
        "if(len(a)>=3):\n",
        "  print(a[0:3])\n",
        "else:\n",
        "  print (a)"
      ],
      "execution_count": null,
      "outputs": []
    },
    {
      "cell_type": "code",
      "metadata": {
        "id": "SFNsKZ-49-xC"
      },
      "source": [
        "def fib(n): # n - 4\n",
        "  if n<=1: \n",
        "    return n\n",
        "  else:\n",
        "    return (fib(n-1)+fib(n-2)) # fib(3)+fib(2)\n",
        "\n",
        "# fib(0) - 0\n",
        "# fib(1) - 1\n",
        "# fib(2) - 1\n",
        "# fib(3) - 2\n",
        "for i in range(10): # [0,1,2,3,4...9]\n",
        "  print(fib(i),end=',') # fib(3)"
      ],
      "execution_count": null,
      "outputs": []
    },
    {
      "cell_type": "code",
      "metadata": {
        "id": "cVcUVUmPyd7W"
      },
      "source": [
        "# Shareit\n",
        "# Sender\n",
        "# Receiver\n",
        "\n",
        "# Server, Client\n",
        "\n",
        "# Who is receving the data? - Servers\n",
        "# Who is making a request? - Client\n",
        "# Facebook Server - Receving the data\n",
        "# Facebook App - Client \n",
        "\n",
        "# Teacher and a Student\n",
        "# Student - Receiver - Server\n",
        "# Teacher - Sender - Client"
      ],
      "execution_count": null,
      "outputs": []
    },
    {
      "cell_type": "code",
      "metadata": {
        "id": "9GDNsftd50bc"
      },
      "source": [
        "# Client Program\n",
        "import socket\n",
        "\n",
        "s=socket.socket() # creating a socket object\n",
        "s.connect(('localhost',12345)) # connect with server\n",
        "k=input('Enter message to server: ').encode('utf-8') # read data from user\n",
        "s.send(k) # sending data to server\n",
        "t=s.recv(1024) # 1024 - maxm size of data, recv from server\n",
        "print(t)\n",
        "s.close() # Socket should close at client\n",
        "\n",
        "# 1. Send\n",
        "# 2. Recv"
      ],
      "execution_count": null,
      "outputs": []
    },
    {
      "cell_type": "code",
      "metadata": {
        "id": "4pxnwSr756T7"
      },
      "source": [
        "# Server Program\n",
        "import socket\n",
        "\n",
        "# Create an instance to access socket\n",
        "s=socket.socket() # socket() - method, socket - module\n",
        "\n",
        "# Configure this socket as a server\n",
        "s.bind(('localhost',12345)) # ip address, port\n",
        "# localhost - CRRE, port - ECE\n",
        "\n",
        "# Start listening the requests\n",
        "s.listen(5) # No of clients\n",
        "\n",
        "while True:\n",
        "\tc,addr=s.accept() # Client Makes a Request\n",
        "\t#c - client id assigned by server\n",
        "\t#addr - Prof. Subba Rao - address of client\n",
        "\tprint('Got Connection from ',addr)\n",
        "\tt=c.recv(1024) # recve from client\n",
        "\tprint(t)\n",
        "\tk=input('Enter Message: ').encode('utf-8')\n",
        "\tc.send(k) # send data to client\n",
        "\n",
        "#1. Recv\n",
        "#2. Send"
      ],
      "execution_count": null,
      "outputs": []
    },
    {
      "cell_type": "code",
      "metadata": {
        "id": "T26ekL4l8Auj"
      },
      "source": [
        "pip install paho-mqtt"
      ],
      "execution_count": null,
      "outputs": []
    },
    {
      "cell_type": "code",
      "metadata": {
        "id": "iTc-zX3J8Y1O"
      },
      "source": [
        "# Publisher Program\n",
        "import paho.mqtt.client as mqtt\n",
        "# paho - library\n",
        "# mqtt - module\n",
        "# client - method\n",
        "client=mqtt.Client()\n",
        "client.connect('broker.hivemq.com',1883)\n",
        "print('Broker Connected')\n",
        "client.publish('madblocks','Hi Hello') # topic, msg\n"
      ],
      "execution_count": null,
      "outputs": []
    },
    {
      "cell_type": "code",
      "metadata": {
        "id": "NuQL3Oou9bxo"
      },
      "source": [
        "# Subscriber Program\n",
        "import paho.mqtt.client as mqtt\n",
        "client=mqtt.Client()\n",
        "client.connect('broker.hivemq.com',1883)\n",
        "print('Broker Connected')\n",
        "client.subscribe('madblocks')\n",
        "\n",
        "def notification(client,userdata,msg):\n",
        "  print(msg.payload) # msg - dictionary, payload - key\n",
        "\n",
        "client.on_message=notification\n",
        "client.loop_forever()"
      ],
      "execution_count": null,
      "outputs": []
    },
    {
      "cell_type": "code",
      "metadata": {
        "id": "eBz5E-xWFnYP"
      },
      "source": [
        "{'_id':1,'name':'madhu','msg':'hi'}\n",
        "{'_id':2,'name':'madhu','msg:hello'}"
      ],
      "execution_count": null,
      "outputs": []
    }
  ]
}